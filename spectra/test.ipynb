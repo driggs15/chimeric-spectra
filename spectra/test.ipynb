{
 "cells": [
  {
   "cell_type": "code",
   "execution_count": 1,
   "metadata": {},
   "outputs": [],
   "source": [
    "from mgf_file_utils import parse_mgf\n",
    "import numpy as np\n",
    "import pandas as pd\n",
    "from scipy.optimize import nnls\n",
    "from sklearn.linear_model import LinearRegression\n",
    "import re\n",
    "import seaborn as sns\n",
    "import matplotlib.pyplot as plt\n",
    "from scipy import stats\n",
    "from sklearn.metrics.pairwise import cosine_similarity\n",
    "from scipy import sparse"
   ]
  },
  {
   "cell_type": "code",
   "execution_count": 2,
   "metadata": {},
   "outputs": [],
   "source": [
    "file1_scans = parse_mgf('Original Spectra Files\\Input Files\\Ex_AuLC1_15m_2D19_3_20um30cm_SPE50_15118120_OTOT_8645_02ng_2mz_1.mgf')\n",
    "file2_scans = parse_mgf('Original Spectra Files\\Input Files\\Ex_AuLC1_15m_2D19_3_20um30cm_SPE50_15118120_OTOT_8645_02ng_2mz_2.mgf')\n",
    "chimeric_scans = parse_mgf('Chimeric Spectra Files\\Input Files\\Ex_AuLC1_15m_2D19_3_20um30cm_SPE50_15118120_OTOT_8645_02ng_2mz_1_Trial_1_1inserts.mgf')"
   ]
  },
  {
   "cell_type": "code",
   "execution_count": 3,
   "metadata": {},
   "outputs": [],
   "source": [
    "series1_titles = ['Ex_AuLC1_15m_2D19_3_20um30cm_SPE50_15118120_OTOT_8645_02ng_2mz_2.1875.1875.2']\n",
    "\n",
    "series2_titles = ['Ex_AuLC1_15m_2D19_3_20um30cm_SPE50_15118120_OTOT_8645_02ng_2mz_2.10553.10553.2',\n",
    "                  'Ex_AuLC1_15m_2D19_3_20um30cm_SPE50_15118120_OTOT_8645_02ng_2mz_2.5799.5799.2']\n",
    "\n",
    "series3_titles = ['Ex_AuLC1_15m_2D19_3_20um30cm_SPE50_15118120_OTOT_8645_02ng_2mz_2.6157.6157.2',\n",
    "                  'Ex_AuLC1_15m_2D19_3_20um30cm_SPE50_15118120_OTOT_8645_02ng_2mz_2.4424.4424.2',\n",
    "                  'Ex_AuLC1_15m_2D19_3_20um30cm_SPE50_15118120_OTOT_8645_02ng_2mz_2.12144.12144.2']\n",
    "\n",
    "series4_titles = ['Ex_AuLC1_15m_2D19_3_20um30cm_SPE50_15118120_OTOT_8645_02ng_2mz_2.8276.8276.2',\n",
    "                  'Ex_AuLC1_15m_2D19_3_20um30cm_SPE50_15118120_OTOT_8645_02ng_2mz_2.4570.4570.2',\n",
    "                  'Ex_AuLC1_15m_2D19_3_20um30cm_SPE50_15118120_OTOT_8645_02ng_2mz_2.3392.3392.3',\n",
    "                  'Ex_AuLC1_15m_2D19_3_20um30cm_SPE50_15118120_OTOT_8645_02ng_2mz_2.13552.13552.3']\n",
    "\n",
    "series5_titles = ['Ex_AuLC1_15m_2D19_3_20um30cm_SPE50_15118120_OTOT_8645_02ng_2mz_2.11221.11221.2',\n",
    "                  'Ex_AuLC1_15m_2D19_3_20um30cm_SPE50_15118120_OTOT_8645_02ng_2mz_2.12666.12666.2',\n",
    "                  'Ex_AuLC1_15m_2D19_3_20um30cm_SPE50_15118120_OTOT_8645_02ng_2mz_2.10079.10079.3',\n",
    "                  'Ex_AuLC1_15m_2D19_3_20um30cm_SPE50_15118120_OTOT_8645_02ng_2mz_2.2190.2190.2',\n",
    "                  'Ex_AuLC1_15m_2D19_3_20um30cm_SPE50_15118120_OTOT_8645_02ng_2mz_2.4203.4203.2']\n",
    "\n",
    "series6_titles = ['Ex_AuLC1_15m_2D19_3_20um30cm_SPE50_15118120_OTOT_8645_02ng_2mz_2.6635.6635.2',\n",
    "                  'Ex_AuLC1_15m_2D19_3_20um30cm_SPE50_15118120_OTOT_8645_02ng_2mz_2.4595.4595.2',\n",
    "                  'Ex_AuLC1_15m_2D19_3_20um30cm_SPE50_15118120_OTOT_8645_02ng_2mz_2.8003.8003.3',\n",
    "                  'Ex_AuLC1_15m_2D19_3_20um30cm_SPE50_15118120_OTOT_8645_02ng_2mz_2.5724.5724.2',\n",
    "                  'Ex_AuLC1_15m_2D19_3_20um30cm_SPE50_15118120_OTOT_8645_02ng_2mz_2.12025.12025.2',\n",
    "                  'Ex_AuLC1_15m_2D19_3_20um30cm_SPE50_15118120_OTOT_8645_02ng_2mz_2.3311.3311.2']\n",
    "\n",
    "series7_titles = ['Ex_AuLC1_15m_2D19_3_20um30cm_SPE50_15118120_OTOT_8645_02ng_2mz_2.3415.3415.2',\n",
    "                  'Ex_AuLC1_15m_2D19_3_20um30cm_SPE50_15118120_OTOT_8645_02ng_2mz_2.9460.9460.2',\n",
    "                  'Ex_AuLC1_15m_2D19_3_20um30cm_SPE50_15118120_OTOT_8645_02ng_2mz_2.8227.8227.2',\n",
    "                  'Ex_AuLC1_15m_2D19_3_20um30cm_SPE50_15118120_OTOT_8645_02ng_2mz_2.12252.12252.2',\n",
    "                  'Ex_AuLC1_15m_2D19_3_20um30cm_SPE50_15118120_OTOT_8645_02ng_2mz_2.13523.13523.2',\n",
    "                  'Ex_AuLC1_15m_2D19_3_20um30cm_SPE50_15118120_OTOT_8645_02ng_2mz_2.8329.8329.2',\n",
    "                  'Ex_AuLC1_15m_2D19_3_20um30cm_SPE50_15118120_OTOT_8645_02ng_2mz_2.10413.10413.2']"
   ]
  },
  {
   "cell_type": "code",
   "execution_count": 4,
   "metadata": {},
   "outputs": [],
   "source": [
    "series1_scans = [scan for scan in file2_scans if scan.title in series1_titles]\n",
    "series2_scans = [scan for scan in file2_scans if scan.title in series2_titles]\n",
    "series3_scans = [scan for scan in file2_scans if scan.title in series3_titles]\n",
    "series4_scans = [scan for scan in file2_scans if scan.title in series4_titles]\n",
    "series5_scans = [scan for scan in file2_scans if scan.title in series5_titles]\n",
    "series6_scans = [scan for scan in file2_scans if scan.title in series6_titles]\n",
    "series7_scans = [scan for scan in file2_scans if scan.title in series7_titles]"
   ]
  },
  {
   "cell_type": "code",
   "execution_count": 5,
   "metadata": {},
   "outputs": [],
   "source": [
    "mgftest1 = pd.read_csv('Original Spectra Files\\Output Files\\psm_1_mgftest.tsv', sep='\\t')\n",
    "mgftest2 = pd.read_csv('Original Spectra Files\\Output Files\\psm_2_mgftest.tsv', sep='\\t')\n",
    "\n",
    "new_theoretical1 = pd.read_csv('Original Spectra Files\\Output Files\\psm_5430_1_new_theoretical.tsv', sep='\\t')\n",
    "new_theoretical2 = pd.read_csv('Original Spectra Files\\Output Files\\psm_5430_2_new_theoretical.tsv', sep='\\t')\n",
    "new_theoretical3 = pd.read_csv('Original Spectra Files\\Output Files\\psm_11860_1_new_theoretical.tsv', sep='\\t')\n",
    "new_theoretical4 = pd.read_csv('Original Spectra Files\\Output Files\\psm_11860_2_new_theoretical.tsv', sep='\\t')\n",
    "new_theoretical5 = pd.read_csv('Original Spectra Files\\Output Files\\psm_246120_1_new_theoretical.tsv', sep='\\t')\n",
    "new_theoretical6 = pd.read_csv('Original Spectra Files\\Output Files\\psm_246120_2_new_theoretical.tsv', sep='\\t')\n",
    "new_theoretical7 = pd.read_csv('Original Spectra Files\\Output Files\\psm_5430_30min_1_new_theoretical.tsv', sep='\\t')\n",
    "new_theoretical8 = pd.read_csv('Original Spectra Files\\Output Files\\psm_5430_30min_2_new_theoretical.tsv', sep='\\t')\n",
    "new_theoretical9 = pd.read_csv('Original Spectra Files\\Output Files\\psm_8645_30min_1_new_theoretical.tsv', sep='\\t')\n",
    "new_theoretical10 = pd.read_csv('Original Spectra Files\\Output Files\\psm_8645_30min_2_new_theoretical.tsv', sep='\\t')\n",
    "\n",
    "new_theoretical1['Data Frame Number'] = 0\n",
    "new_theoretical2['Data Frame Number'] = 1\n",
    "new_theoretical3['Data Frame Number'] = 2\n",
    "new_theoretical4['Data Frame Number'] = 3\n",
    "new_theoretical5['Data Frame Number'] = 4\n",
    "new_theoretical6['Data Frame Number'] = 5\n",
    "new_theoretical7['Data Frame Number'] = 6\n",
    "new_theoretical8['Data Frame Number'] = 7\n",
    "new_theoretical9['Data Frame Number'] = 8\n",
    "new_theoretical10['Data Frame Number'] = 9\n",
    "\n",
    "new_theoretical = pd.concat([new_theoretical1, new_theoretical2, new_theoretical3, \n",
    "                             new_theoretical4, new_theoretical5, new_theoretical6, new_theoretical7,\n",
    "                             new_theoretical8, new_theoretical9, new_theoretical10], ignore_index=True, axis=0)\n",
    "fixed1_scans = parse_mgf('Original Spectra Files\\Input Files\\FIXED_Ex_AuLC1_15m_2D19_3_20um30cm_SPE50_15118120_OTOT_5430_02ng_2mz_1.mgf')\n",
    "fixed2_scans = parse_mgf('Original Spectra Files\\Input Files\\FIXED_Ex_AuLC1_15m_2D19_3_20um30cm_SPE50_15118120_OTOT_5430_02ng_2mz_2.mgf')\n",
    "fixed3_scans = parse_mgf('Original Spectra Files\\Input Files\\FIXED_Ex_AuLC1_15m_2D19_3_20um30cm_SPE50_15118120_OTOT_11860_02ng_2mz_1.mgf')\n",
    "fixed4_scans = parse_mgf('Original Spectra Files\\Input Files\\FIXED_Ex_AuLC1_15m_2D19_3_20um30cm_SPE50_15118120_OTOT_11860_02ng_2mz_2.mgf')\n",
    "fixed5_scans = parse_mgf('Original Spectra Files\\Input Files\\FIXED_Ex_AuLC1_15m_2D19_3_20um30cm_SPE50_15118120_OTOT_246120_02ng_2mz_1.mgf')\n",
    "fixed6_scans = parse_mgf('Original Spectra Files\\Input Files\\FIXED_Ex_AuLC1_15m_2D19_3_20um30cm_SPE50_15118120_OTOT_246120_02ng_2mz_2.mgf')\n",
    "fixed7_scans = parse_mgf('Original Spectra Files\\Input Files\\FIXED_Ex_AuLC1_30m_2D19_3_20um30cm_SPE50_15118120_OTOT_5430_02ng_2mz_1.mgf')\n",
    "fixed8_scans = parse_mgf('Original Spectra Files\\Input Files\\FIXED_Ex_AuLC1_30m_2D19_3_20um30cm_SPE50_15118120_OTOT_5430_02ng_2mz_2.mgf')\n",
    "fixed9_scans = parse_mgf('Original Spectra Files\\Input Files\\FIXED_Ex_AuLC1_30m_2D19_3_20um30cm_SPE50_15118120_OTOT_8645_02ng_2mz_1.mgf')\n",
    "fixed10_scans = parse_mgf('Original Spectra Files\\Input Files\\FIXED_Ex_AuLC1_30m_2D19_3_20um30cm_SPE50_15118120_OTOT_8645_02ng_2mz_2.mgf')\n",
    "\n",
    "fixed_scans = [fixed1_scans, fixed2_scans, fixed3_scans, fixed4_scans, fixed5_scans, \n",
    "               fixed6_scans, fixed7_scans, fixed8_scans, fixed9_scans, fixed10_scans]\n",
    "\n",
    "mgftest1['Scan Number'] = mgftest1['Spectrum'].apply(lambda row : str(int(re.search('(?<=2mz_1\\.)\\d+(?=\\.)', row)[0])))\n",
    "mgftest2['Scan Number'] = mgftest2['Spectrum'].apply(lambda row : str(int(re.search('(?<=2mz_2\\.)\\d+(?=\\.)', row)[0])))"
   ]
  },
  {
   "cell_type": "code",
   "execution_count": 16,
   "metadata": {},
   "outputs": [
    {
     "data": {
      "text/html": [
       "<div>\n",
       "<style scoped>\n",
       "    .dataframe tbody tr th:only-of-type {\n",
       "        vertical-align: middle;\n",
       "    }\n",
       "\n",
       "    .dataframe tbody tr th {\n",
       "        vertical-align: top;\n",
       "    }\n",
       "\n",
       "    .dataframe thead th {\n",
       "        text-align: right;\n",
       "    }\n",
       "</style>\n",
       "<table border=\"1\" class=\"dataframe\">\n",
       "  <thead>\n",
       "    <tr style=\"text-align: right;\">\n",
       "      <th></th>\n",
       "      <th>Peptide</th>\n",
       "      <th>Chimeric Index</th>\n",
       "      <th>Alt Scan Num</th>\n",
       "      <th>Data Frame Num</th>\n",
       "      <th>Scan</th>\n",
       "    </tr>\n",
       "  </thead>\n",
       "  <tbody>\n",
       "    <tr>\n",
       "      <th>0</th>\n",
       "      <td>VKEDPDGEHAR</td>\n",
       "      <td>449</td>\n",
       "      <td>1017</td>\n",
       "      <td>2</td>\n",
       "      <td>TITLE=Ex_AuLC1_15m_2D19_3_20um30cm_SPE50_15118...</td>\n",
       "    </tr>\n",
       "    <tr>\n",
       "      <th>1</th>\n",
       "      <td>VKEDPDGEHAR</td>\n",
       "      <td>449</td>\n",
       "      <td>1417</td>\n",
       "      <td>3</td>\n",
       "      <td>TITLE=Ex_AuLC1_15m_2D19_3_20um30cm_SPE50_15118...</td>\n",
       "    </tr>\n",
       "    <tr>\n",
       "      <th>2</th>\n",
       "      <td>VKEDPDGEHAR</td>\n",
       "      <td>449</td>\n",
       "      <td>1423</td>\n",
       "      <td>3</td>\n",
       "      <td>TITLE=Ex_AuLC1_15m_2D19_3_20um30cm_SPE50_15118...</td>\n",
       "    </tr>\n",
       "    <tr>\n",
       "      <th>3</th>\n",
       "      <td>VKEDPDGEHAR</td>\n",
       "      <td>449</td>\n",
       "      <td>947</td>\n",
       "      <td>4</td>\n",
       "      <td>TITLE=Ex_AuLC1_15m_2D19_3_20um30cm_SPE50_15118...</td>\n",
       "    </tr>\n",
       "    <tr>\n",
       "      <th>4</th>\n",
       "      <td>VKEDPDGEHAR</td>\n",
       "      <td>449</td>\n",
       "      <td>1060</td>\n",
       "      <td>5</td>\n",
       "      <td>TITLE=Ex_AuLC1_15m_2D19_3_20um30cm_SPE50_15118...</td>\n",
       "    </tr>\n",
       "    <tr>\n",
       "      <th>5</th>\n",
       "      <td>VKEDPDGEHAR</td>\n",
       "      <td>449</td>\n",
       "      <td>1122</td>\n",
       "      <td>9</td>\n",
       "      <td>TITLE=Ex_AuLC1_30m_2D19_3_20um30cm_SPE50_15118...</td>\n",
       "    </tr>\n",
       "    <tr>\n",
       "      <th>6</th>\n",
       "      <td>VKEDPDGEHAR</td>\n",
       "      <td>449</td>\n",
       "      <td>1138</td>\n",
       "      <td>9</td>\n",
       "      <td>TITLE=Ex_AuLC1_30m_2D19_3_20um30cm_SPE50_15118...</td>\n",
       "    </tr>\n",
       "    <tr>\n",
       "      <th>7</th>\n",
       "      <td>GPESESEDHR</td>\n",
       "      <td>469</td>\n",
       "      <td>1053</td>\n",
       "      <td>2</td>\n",
       "      <td>TITLE=Ex_AuLC1_15m_2D19_3_20um30cm_SPE50_15118...</td>\n",
       "    </tr>\n",
       "    <tr>\n",
       "      <th>8</th>\n",
       "      <td>GPESESEDHR</td>\n",
       "      <td>469</td>\n",
       "      <td>1068</td>\n",
       "      <td>2</td>\n",
       "      <td>TITLE=Ex_AuLC1_15m_2D19_3_20um30cm_SPE50_15118...</td>\n",
       "    </tr>\n",
       "    <tr>\n",
       "      <th>9</th>\n",
       "      <td>GPESESEDHR</td>\n",
       "      <td>469</td>\n",
       "      <td>971</td>\n",
       "      <td>4</td>\n",
       "      <td>TITLE=Ex_AuLC1_15m_2D19_3_20um30cm_SPE50_15118...</td>\n",
       "    </tr>\n",
       "    <tr>\n",
       "      <th>10</th>\n",
       "      <td>GPESESEDHR</td>\n",
       "      <td>469</td>\n",
       "      <td>983</td>\n",
       "      <td>4</td>\n",
       "      <td>TITLE=Ex_AuLC1_15m_2D19_3_20um30cm_SPE50_15118...</td>\n",
       "    </tr>\n",
       "    <tr>\n",
       "      <th>11</th>\n",
       "      <td>GPESESEDHR</td>\n",
       "      <td>469</td>\n",
       "      <td>1093</td>\n",
       "      <td>5</td>\n",
       "      <td>TITLE=Ex_AuLC1_15m_2D19_3_20um30cm_SPE50_15118...</td>\n",
       "    </tr>\n",
       "    <tr>\n",
       "      <th>12</th>\n",
       "      <td>GPESESEDHR</td>\n",
       "      <td>469</td>\n",
       "      <td>1099</td>\n",
       "      <td>5</td>\n",
       "      <td>TITLE=Ex_AuLC1_15m_2D19_3_20um30cm_SPE50_15118...</td>\n",
       "    </tr>\n",
       "    <tr>\n",
       "      <th>13</th>\n",
       "      <td>QVAPEKPVKK</td>\n",
       "      <td>530</td>\n",
       "      <td>1111</td>\n",
       "      <td>2</td>\n",
       "      <td>TITLE=Ex_AuLC1_15m_2D19_3_20um30cm_SPE50_15118...</td>\n",
       "    </tr>\n",
       "    <tr>\n",
       "      <th>14</th>\n",
       "      <td>QVAPEKPVKK</td>\n",
       "      <td>530</td>\n",
       "      <td>1512</td>\n",
       "      <td>3</td>\n",
       "      <td>TITLE=Ex_AuLC1_15m_2D19_3_20um30cm_SPE50_15118...</td>\n",
       "    </tr>\n",
       "  </tbody>\n",
       "</table>\n",
       "</div>"
      ],
      "text/plain": [
       "        Peptide  Chimeric Index Alt Scan Num  Data Frame Num  \\\n",
       "0   VKEDPDGEHAR             449         1017               2   \n",
       "1   VKEDPDGEHAR             449         1417               3   \n",
       "2   VKEDPDGEHAR             449         1423               3   \n",
       "3   VKEDPDGEHAR             449          947               4   \n",
       "4   VKEDPDGEHAR             449         1060               5   \n",
       "5   VKEDPDGEHAR             449         1122               9   \n",
       "6   VKEDPDGEHAR             449         1138               9   \n",
       "7    GPESESEDHR             469         1053               2   \n",
       "8    GPESESEDHR             469         1068               2   \n",
       "9    GPESESEDHR             469          971               4   \n",
       "10   GPESESEDHR             469          983               4   \n",
       "11   GPESESEDHR             469         1093               5   \n",
       "12   GPESESEDHR             469         1099               5   \n",
       "13   QVAPEKPVKK             530         1111               2   \n",
       "14   QVAPEKPVKK             530         1512               3   \n",
       "\n",
       "                                                 Scan  \n",
       "0   TITLE=Ex_AuLC1_15m_2D19_3_20um30cm_SPE50_15118...  \n",
       "1   TITLE=Ex_AuLC1_15m_2D19_3_20um30cm_SPE50_15118...  \n",
       "2   TITLE=Ex_AuLC1_15m_2D19_3_20um30cm_SPE50_15118...  \n",
       "3   TITLE=Ex_AuLC1_15m_2D19_3_20um30cm_SPE50_15118...  \n",
       "4   TITLE=Ex_AuLC1_15m_2D19_3_20um30cm_SPE50_15118...  \n",
       "5   TITLE=Ex_AuLC1_30m_2D19_3_20um30cm_SPE50_15118...  \n",
       "6   TITLE=Ex_AuLC1_30m_2D19_3_20um30cm_SPE50_15118...  \n",
       "7   TITLE=Ex_AuLC1_15m_2D19_3_20um30cm_SPE50_15118...  \n",
       "8   TITLE=Ex_AuLC1_15m_2D19_3_20um30cm_SPE50_15118...  \n",
       "9   TITLE=Ex_AuLC1_15m_2D19_3_20um30cm_SPE50_15118...  \n",
       "10  TITLE=Ex_AuLC1_15m_2D19_3_20um30cm_SPE50_15118...  \n",
       "11  TITLE=Ex_AuLC1_15m_2D19_3_20um30cm_SPE50_15118...  \n",
       "12  TITLE=Ex_AuLC1_15m_2D19_3_20um30cm_SPE50_15118...  \n",
       "13  TITLE=Ex_AuLC1_15m_2D19_3_20um30cm_SPE50_15118...  \n",
       "14  TITLE=Ex_AuLC1_15m_2D19_3_20um30cm_SPE50_15118...  "
      ]
     },
     "execution_count": 16,
     "metadata": {},
     "output_type": "execute_result"
    }
   ],
   "source": [
    "file1_alt_scans_info.head(15)"
   ]
  },
  {
   "cell_type": "code",
   "execution_count": 16,
   "metadata": {},
   "outputs": [],
   "source": [
    "scans = file1_scans + series1_scans + chimeric_scans"
   ]
  },
  {
   "cell_type": "code",
   "execution_count": 6,
   "metadata": {},
   "outputs": [],
   "source": [
    "for scan in series1_scans :\n",
    "    peptide = mgftest2.loc[mgftest2['Scan Number'] == scan.scan_num, 'Peptide'].iloc[0]\n",
    "    scan_title, df_num = new_theoretical.loc[new_theoretical['Peptide'] == peptide, ['Spectrum', 'Data Frame Number']].iloc[0]\n",
    "    scan_number = str(int(re.search('(?<=2mz_2\\.)\\d+(?=\\.)', scan_title)[0]))\n",
    "for df_num_fixed, fixed_scan in enumerate(fixed_scans) :\n",
    "    for scan in fixed_scan :\n",
    "        if (df_num == df_num_fixed) & (scan_number == scan.scan_num) :\n",
    "            series1_alt_scan = scan"
   ]
  },
  {
   "cell_type": "code",
   "execution_count": 8,
   "metadata": {},
   "outputs": [],
   "source": [
    "file1_scans_with_alt_scan_indexes = []\n",
    "file1_alt_scan_nums = []\n",
    "file1_alt_scan_df_nums = []\n",
    "file1_alt_scans = []\n",
    "\n",
    "peptides = []\n",
    "\n",
    "for index, scan in enumerate(file1_scans) :\n",
    "    if not mgftest1.loc[mgftest1['Scan Number'] == scan.scan_num, 'Peptide'].empty :\n",
    "        peptide = mgftest1.loc[mgftest1['Scan Number'] == scan.scan_num, 'Peptide'].iloc[0]\n",
    "        if not new_theoretical.loc[(new_theoretical['Peptide'] == peptide) & (new_theoretical['PeptideProphet Probability'] > 0.99), ['Spectrum', 'Data Frame Number']].empty :\n",
    "            # Peptide Prophet Probability > .99\n",
    "\n",
    "            # if len(new_theoretical.loc[(new_theoretical['Peptide'] == peptide) & (new_theoretical['PeptideProphet Probability'] > 0.99), ['Spectrum', 'Data Frame Number']]) >= 4 :\n",
    "            #     for scan_title, df_num in new_theoretical.loc[(new_theoretical['Peptide'] == peptide) & (new_theoretical['PeptideProphet Probability'] > 0.99), ['Spectrum', 'Data Frame Number']].values:\n",
    "            #         scan_number = str(int(re.search('(?<=2mz_\\d\\.)\\d+(?=\\.)', scan_title)[0]))\n",
    "            #         peptides.append(peptide)\n",
    "            #         file1_scans_with_alt_scan_indexes.append(index)\n",
    "            #         file1_alt_scan_nums.append(scan_number)\n",
    "            #         file1_alt_scan_df_nums.append(df_num)\n",
    "            scan_title, df_num = new_theoretical.loc[(new_theoretical['Peptide'] == peptide) & (new_theoretical['PeptideProphet Probability'] > 0.99), ['Spectrum', 'Data Frame Number']].iloc[0]\n",
    "            scan_number = str(int(re.search('(?<=2mz_\\d\\.)\\d+(?=\\.)', scan_title)[0]))\n",
    "            file1_scans_with_alt_scan_indexes.append(index)\n",
    "            file1_alt_scan_nums.append(scan_number)\n",
    "            file1_alt_scan_df_nums.append(df_num)\n",
    "file1_alt_scans_info = pd.DataFrame({'Chimeric Index':file1_scans_with_alt_scan_indexes,\n",
    "                                     'Alt Scan Num': file1_alt_scan_nums,\n",
    "                                     'Data Frame Num': file1_alt_scan_df_nums})"
   ]
  },
  {
   "cell_type": "code",
   "execution_count": 9,
   "metadata": {},
   "outputs": [],
   "source": [
    "file1_alt_scans_info['Scan'] = None\n",
    "for df_num, fixed_scan in enumerate(fixed_scans) :\n",
    "    for scan in fixed_scan :\n",
    "        if scan.scan_num in file1_alt_scans_info.loc[file1_alt_scans_info['Data Frame Num'] == df_num, 'Alt Scan Num'].values :\n",
    "            file1_alt_scans_info.loc[(file1_alt_scans_info['Alt Scan Num'] == scan.scan_num) & (file1_alt_scans_info['Data Frame Num'] == df_num), 'Scan'] = scan"
   ]
  },
  {
   "cell_type": "code",
   "execution_count": 10,
   "metadata": {},
   "outputs": [],
   "source": [
    "def truncate_float(float_number, decimal_places):\n",
    "    multiplier = 10 ** decimal_places\n",
    "    return int(float_number * multiplier) / multiplier"
   ]
  },
  {
   "cell_type": "code",
   "execution_count": 11,
   "metadata": {},
   "outputs": [],
   "source": [
    "def bin_m_z(scan) :\n",
    "    m_z_values = [truncate_float(float(m_z), 4) for m_z in scan.m_z]\n",
    "    return m_z_values"
   ]
  },
  {
   "cell_type": "code",
   "execution_count": 12,
   "metadata": {},
   "outputs": [],
   "source": [
    "def combine_duplicates(scan):\n",
    "    m_z_new = []\n",
    "    intensities_new = []\n",
    "\n",
    "    seen_m_z = set()  # Keep track of seen m_z values\n",
    "\n",
    "    for m_z, intensity in zip(scan.m_z, scan.intensity):\n",
    "        if m_z not in seen_m_z:\n",
    "            seen_m_z.add(m_z)\n",
    "            m_z_new.append(float(m_z))\n",
    "            intensities_new.append(float(intensity))\n",
    "        else:\n",
    "            # If m_z is a duplicate, find its index and update the intensity\n",
    "            index = m_z_new.index(float(m_z))\n",
    "            intensities_new[index] += float(intensity)\n",
    "\n",
    "    return m_z_new, intensities_new    "
   ]
  },
  {
   "cell_type": "code",
   "execution_count": 16,
   "metadata": {},
   "outputs": [],
   "source": [
    "chimeric_scans_with_alt_scan = [chimeric_scans[index] for index in file1_alt_scans_info.loc[pd.notnull(file1_alt_scans_info['Scan']), 'Chimeric Index']]\n",
    "all_scans = chimeric_scans_with_alt_scan + list(file1_alt_scans_info.loc[pd.notnull(file1_alt_scans_info['Scan']), 'Scan'].values) + [series1_alt_scan] + series1_scans \n",
    "\n",
    "# all_scans = list(file1_alt_scans_info.loc[(pd.notnull(file1_alt_scans_info['Scan'])) & (file1_alt_scans_info['Peptide'].isin(peptides_with_atleast_two_scans)), 'Scan'].values)"
   ]
  },
  {
   "cell_type": "code",
   "execution_count": 17,
   "metadata": {},
   "outputs": [],
   "source": [
    "for scan in all_scans :\n",
    "    scan.m_z = bin_m_z(scan)\n",
    "    scan.m_z, scan.intensity = combine_duplicates(scan)"
   ]
  },
  {
   "cell_type": "code",
   "execution_count": 18,
   "metadata": {},
   "outputs": [],
   "source": [
    "unique_m_zs = list(set(float(m_z) for scan in all_scans for m_z in scan.m_z))\n",
    "unique_m_zs.sort()\n",
    "# step = 1e-7\n",
    "# m_z_values = list(np.arange(unique_m_zs[0], unique_m_zs[-1]+step, step=step))"
   ]
  },
  {
   "cell_type": "code",
   "execution_count": 24,
   "metadata": {},
   "outputs": [],
   "source": [
    "peptides_with_atleast_two_scans = []\n",
    "for peptide in file1_alt_scans_info.loc[pd.notnull(file1_alt_scans_info['Scan']), 'Peptide'].unique() :\n",
    "    if len(file1_alt_scans_info.loc[(pd.notnull(file1_alt_scans_info['Scan'])) & (file1_alt_scans_info['Peptide'] == peptide), 'Scan']) >= 2:\n",
    "        peptides_with_atleast_two_scans.append(peptide)"
   ]
  },
  {
   "cell_type": "code",
   "execution_count": 41,
   "metadata": {},
   "outputs": [
    {
     "name": "stdout",
     "output_type": "stream",
     "text": [
      "0.0\n"
     ]
    },
    {
     "ename": "KeyboardInterrupt",
     "evalue": "",
     "output_type": "error",
     "traceback": [
      "\u001b[1;31m---------------------------------------------------------------------------\u001b[0m",
      "\u001b[1;31mKeyboardInterrupt\u001b[0m                         Traceback (most recent call last)",
      "\u001b[1;32mc:\\Users\\natha\\OneDrive\\Documents\\chimeric-spectra\\spectra\\test.ipynb Cell 21\u001b[0m line \u001b[0;36m1\n\u001b[0;32m      <a href='vscode-notebook-cell:/c%3A/Users/natha/OneDrive/Documents/chimeric-spectra/spectra/test.ipynb#X54sZmlsZQ%3D%3D?line=6'>7</a>\u001b[0m scan\u001b[39m.\u001b[39mm_z, scan\u001b[39m.\u001b[39mintensity \u001b[39m=\u001b[39m combine_duplicates(scan)\n\u001b[0;32m      <a href='vscode-notebook-cell:/c%3A/Users/natha/OneDrive/Documents/chimeric-spectra/spectra/test.ipynb#X54sZmlsZQ%3D%3D?line=8'>9</a>\u001b[0m scan_intensity \u001b[39m=\u001b[39m np\u001b[39m.\u001b[39mzeros(\u001b[39mlen\u001b[39m(unique_m_zs))\n\u001b[1;32m---> <a href='vscode-notebook-cell:/c%3A/Users/natha/OneDrive/Documents/chimeric-spectra/spectra/test.ipynb#X54sZmlsZQ%3D%3D?line=9'>10</a>\u001b[0m indexes \u001b[39m=\u001b[39m np\u001b[39m.\u001b[39mwhere(np\u001b[39m.\u001b[39misin(np\u001b[39m.\u001b[39marray(unique_m_zs), np\u001b[39m.\u001b[39marray(scan\u001b[39m.\u001b[39mm_z)))[\u001b[39m0\u001b[39m]\n\u001b[0;32m     <a href='vscode-notebook-cell:/c%3A/Users/natha/OneDrive/Documents/chimeric-spectra/spectra/test.ipynb#X54sZmlsZQ%3D%3D?line=10'>11</a>\u001b[0m scan_intensity[indexes] \u001b[39m=\u001b[39m scan\u001b[39m.\u001b[39mintensity\n\u001b[0;32m     <a href='vscode-notebook-cell:/c%3A/Users/natha/OneDrive/Documents/chimeric-spectra/spectra/test.ipynb#X54sZmlsZQ%3D%3D?line=12'>13</a>\u001b[0m intensities\u001b[39m.\u001b[39mappend(scan_intensity)\n",
      "\u001b[1;31mKeyboardInterrupt\u001b[0m: "
     ]
    }
   ],
   "source": [
    "same_peptide_cosine_scores = []\n",
    "different_intensities = []\n",
    "for i, peptide in enumerate(peptides_with_atleast_two_scans) :\n",
    "    intensities = []\n",
    "    for scan in file1_alt_scans_info.loc[(pd.notnull(file1_alt_scans_info['Scan'])) & (file1_alt_scans_info['Peptide'] == peptide), 'Scan'] :\n",
    "        scan.m_z = bin_m_z(scan)\n",
    "        scan.m_z, scan.intensity = combine_duplicates(scan)\n",
    "\n",
    "        scan_intensity = np.zeros(len(unique_m_zs))\n",
    "        indexes = np.where(np.isin(np.array(unique_m_zs), np.array(scan.m_z)))[0]\n",
    "        scan_intensity[indexes] = scan.intensity\n",
    "\n",
    "        intensities.append(scan_intensity)\n",
    "    \n",
    "    different_intensities.append(scan_intensity)\n",
    "\n",
    "    cosine_score_matrix = cosine_similarity(np.array(intensities))\n",
    "    assert len(cosine_score_matrix) == len(intensities)\n",
    "    for row in range(len(cosine_score_matrix)) :\n",
    "        for col in range(row + 1, len(cosine_score_matrix)) :\n",
    "            same_peptide_cosine_scores.append(cosine_score_matrix[row, col])\n",
    "\n",
    "    if i % 200 == 0 :\n",
    "        print(i/len(peptides_with_atleast_two_scans))"
   ]
  },
  {
   "cell_type": "code",
   "execution_count": 46,
   "metadata": {},
   "outputs": [
    {
     "data": {
      "text/plain": [
       "<seaborn.axisgrid.FacetGrid at 0x1e9a6bd5890>"
      ]
     },
     "execution_count": 46,
     "metadata": {},
     "output_type": "execute_result"
    },
    {
     "data": {
      "image/png": "[encoded data removed]",
      "text/plain": [
       "<Figure size 500x500 with 1 Axes>"
      ]
     },
     "metadata": {},
     "output_type": "display_data"
    }
   ],
   "source": [
    "sns.displot(same_peptide_cosine_scores, x=\"Cosine Similarity\", kind=\"kde\")"
   ]
  },
  {
   "cell_type": "code",
   "execution_count": 49,
   "metadata": {},
   "outputs": [
    {
     "data": {
      "text/plain": [
       "count    113047.000000\n",
       "mean          0.109061\n",
       "std           0.171961\n",
       "min           0.000000\n",
       "25%           0.007885\n",
       "50%           0.048633\n",
       "75%           0.136431\n",
       "max           1.000000\n",
       "Name: Cosine Similarity, dtype: float64"
      ]
     },
     "execution_count": 49,
     "metadata": {},
     "output_type": "execute_result"
    }
   ],
   "source": [
    "same_peptide_cosine_scores['Cosine Similarity'].describe()"
   ]
  },
  {
   "cell_type": "code",
   "execution_count": 50,
   "metadata": {},
   "outputs": [],
   "source": [
    "different_peptide_cosine_scores = []\n",
    "cosine_score_matrix = cosine_similarity(np.array(different_intensities))\n",
    "for row in range(len(cosine_score_matrix)) :\n",
    "    for col in range(row + 1, len(cosine_score_matrix)) :\n",
    "        different_peptide_cosine_scores.append(cosine_score_matrix[row, col])"
   ]
  },
  {
   "cell_type": "code",
   "execution_count": 52,
   "metadata": {},
   "outputs": [
    {
     "data": {
      "text/plain": [
       "<seaborn.axisgrid.FacetGrid at 0x1e9bba98350>"
      ]
     },
     "execution_count": 52,
     "metadata": {},
     "output_type": "execute_result"
    },
    {
     "data": {
      "image/png": "[encoded data removed]",
      "text/plain": [
       "<Figure size 500x500 with 1 Axes>"
      ]
     },
     "metadata": {},
     "output_type": "display_data"
    }
   ],
   "source": [
    "sns.displot(different_peptide_cosine_scores, x=\"Cosine Similarity\", kind=\"kde\")"
   ]
  },
  {
   "cell_type": "code",
   "execution_count": 53,
   "metadata": {},
   "outputs": [
    {
     "data": {
      "text/plain": [
       "count    3655.000000\n",
       "mean        0.019249\n",
       "std         0.049013\n",
       "min         0.000000\n",
       "25%         0.000000\n",
       "50%         0.000000\n",
       "75%         0.015489\n",
       "max         0.423782\n",
       "Name: Cosine Similarity, dtype: float64"
      ]
     },
     "execution_count": 53,
     "metadata": {},
     "output_type": "execute_result"
    }
   ],
   "source": [
    "different_peptide_cosine_scores['Cosine Similarity'].describe()"
   ]
  },
  {
   "cell_type": "code",
   "execution_count": 55,
   "metadata": {},
   "outputs": [
    {
     "data": {
      "text/plain": [
       "Ttest_indResult(statistic=-93.69481044830717, pvalue=0.0)"
      ]
     },
     "execution_count": 55,
     "metadata": {},
     "output_type": "execute_result"
    }
   ],
   "source": [
    "stats.ttest_ind(different_peptide_cosine_scores['Cosine Similarity'], same_peptide_cosine_scores['Cosine Similarity'], equal_var=False)"
   ]
  },
  {
   "cell_type": "code",
   "execution_count": 63,
   "metadata": {},
   "outputs": [],
   "source": [
    "same_peptide_cosine_scores['Same/Different'] = 'Same'\n",
    "different_peptide_cosine_scores['Same/Different'] = 'Different'\n",
    "\n",
    "data = pd.concat([same_peptide_cosine_scores.sample(len(different_peptide_cosine_scores)), different_peptide_cosine_scores])"
   ]
  },
  {
   "cell_type": "code",
   "execution_count": 64,
   "metadata": {},
   "outputs": [
    {
     "data": {
      "text/plain": [
       "<seaborn.axisgrid.FacetGrid at 0x1e9a6bb45d0>"
      ]
     },
     "execution_count": 64,
     "metadata": {},
     "output_type": "execute_result"
    },
    {
     "data": {
      "image/png": "[encoded data removed]",
      "text/plain": [
       "<Figure size 616.486x500 with 1 Axes>"
      ]
     },
     "metadata": {},
     "output_type": "display_data"
    }
   ],
   "source": [
    "sns.displot(data, x=\"Cosine Similarity\", kind=\"kde\", hue='Same/Different')"
   ]
  },
  {
   "cell_type": "code",
   "execution_count": null,
   "metadata": {},
   "outputs": [],
   "source": [
    "dfs = []\n",
    "for scan in scans :\n",
    "    intensity = np.zeros(len(unique_m_zs))\n",
    "    scan.m_z = [float(i) for i in scan.m_z]\n",
    "    scan.intensity = [float(i) for i in scan.intensity]\n",
    "    indexes = np.where(np.isin(np.array(unique_m_zs), np.array(scan.m_z)))[0]\n",
    "    intensity[indexes] = scan.intensity\n",
    "    df = pd.DataFrame({scan.title: intensity}, index=unique_m_zs)\n",
    "    dfs.append(df)\n",
    "A = pd.concat(dfs, axis=1)"
   ]
  },
  {
   "cell_type": "code",
   "execution_count": 19,
   "metadata": {},
   "outputs": [],
   "source": [
    "series1_alt_scan_intensity = np.zeros(len(unique_m_zs))\n",
    "series1_alt_scan.m_z = bin_m_z(series1_alt_scan)\n",
    "series1_alt_scan.m_z, series1_alt_scan.intensity = combine_duplicates(series1_alt_scan)\n",
    "indexes = np.where(np.isin(np.array(unique_m_zs), np.array(series1_alt_scan.m_z)))[0]\n",
    "series1_alt_scan_intensity[indexes] = series1_alt_scan.intensity\n",
    "\n",
    "series1_scan_intensity = np.zeros(len(unique_m_zs))\n",
    "series1_scans[0].m_z = bin_m_z(series1_scans[0])\n",
    "series1_scans[0].m_z, series1_scans[0].intensity = combine_duplicates(series1_scans[0])\n",
    "indexes = np.where(np.isin(np.array(unique_m_zs), np.array(series1_scans[0].m_z)))[0]\n",
    "series1_scan_intensity[indexes] = series1_scans[0].intensity"
   ]
  },
  {
   "cell_type": "code",
   "execution_count": 139,
   "metadata": {},
   "outputs": [],
   "source": [
    "series1_scan_intensity_fake = np.zeros(len(unique_m_zs))\n",
    "avg_height = np.average(series1_scan_intensity[np.where(series1_scan_intensity > 0)[0]])\n",
    "for i in range(len(series1_scan_intensity)) :\n",
    "    if (series1_scan_intensity[i] == 0) & (np.random.randint(15000) == 0) :\n",
    "        series1_scan_intensity_fake[i] = avg_height * (1 + np.random.normal())\n",
    "    elif (series1_scan_intensity[i] > 0) & (np.random.uniform() > 0.17) :\n",
    "        series1_scan_intensity_fake[i] = 0\n",
    "    else :\n",
    "        series1_scan_intensity_fake[i] = series1_scan_intensity[i] * (1 + np.random.normal())"
   ]
  },
  {
   "cell_type": "code",
   "execution_count": 140,
   "metadata": {},
   "outputs": [
    {
     "data": {
      "text/plain": [
       "41"
      ]
     },
     "execution_count": 140,
     "metadata": {},
     "output_type": "execute_result"
    }
   ],
   "source": [
    "sum(series1_scan_intensity_fake > 0)"
   ]
  },
  {
   "cell_type": "code",
   "execution_count": 141,
   "metadata": {},
   "outputs": [
    {
     "data": {
      "text/plain": [
       "0.09353254197196553"
      ]
     },
     "execution_count": 141,
     "metadata": {},
     "output_type": "execute_result"
    }
   ],
   "source": [
    "cosine_similarity(np.array([list(series1_scan_intensity_fake), list(series1_scan_intensity)]))[0,1]"
   ]
  },
  {
   "cell_type": "code",
   "execution_count": 123,
   "metadata": {},
   "outputs": [],
   "source": [
    "def get_cosine_similarity(array1, array2) :\n",
    "    return cosine_similarity(np.array([list(array1), list(array2)]))[0,1]"
   ]
  },
  {
   "cell_type": "code",
   "execution_count": 142,
   "metadata": {},
   "outputs": [
    {
     "name": "stdout",
     "output_type": "stream",
     "text": [
      "0.014302059496567507\n",
      "0.028604118993135013\n",
      "0.04290617848970252\n",
      "0.057208237986270026\n",
      "0.07151029748283753\n",
      "0.08581235697940504\n",
      "0.10011441647597254\n",
      "0.11441647597254005\n",
      "0.12871853546910755\n",
      "0.14302059496567507\n",
      "0.15732265446224256\n",
      "0.17162471395881007\n",
      "0.1859267734553776\n",
      "0.20022883295194507\n",
      "0.2145308924485126\n",
      "0.2288329519450801\n",
      "0.2431350114416476\n",
      "0.2574370709382151\n",
      "0.2717391304347826\n",
      "0.28604118993135014\n",
      "0.3003432494279176\n",
      "0.3146453089244851\n",
      "0.32894736842105265\n",
      "0.34324942791762014\n",
      "0.35755148741418763\n",
      "0.3718535469107552\n",
      "0.38615560640732266\n",
      "0.40045766590389015\n",
      "0.4147597254004577\n",
      "0.4290617848970252\n",
      "0.44336384439359267\n",
      "0.4576659038901602\n"
     ]
    },
    {
     "ename": "KeyboardInterrupt",
     "evalue": "",
     "output_type": "error",
     "traceback": [
      "\u001b[1;31m---------------------------------------------------------------------------\u001b[0m",
      "\u001b[1;31mKeyboardInterrupt\u001b[0m                         Traceback (most recent call last)",
      "\u001b[1;32mc:\\Users\\natha\\OneDrive\\Documents\\chimeric-spectra\\spectra\\test.ipynb Cell 33\u001b[0m line \u001b[0;36m3\n\u001b[0;32m     <a href='vscode-notebook-cell:/c%3A/Users/natha/OneDrive/Documents/chimeric-spectra/spectra/test.ipynb#X41sZmlsZQ%3D%3D?line=28'>29</a>\u001b[0m scan\u001b[39m.\u001b[39mm_z \u001b[39m=\u001b[39m bin_m_z(scan)\n\u001b[0;32m     <a href='vscode-notebook-cell:/c%3A/Users/natha/OneDrive/Documents/chimeric-spectra/spectra/test.ipynb#X41sZmlsZQ%3D%3D?line=29'>30</a>\u001b[0m scan\u001b[39m.\u001b[39mm_z, scan\u001b[39m.\u001b[39mintensity \u001b[39m=\u001b[39m combine_duplicates(scan)\n\u001b[1;32m---> <a href='vscode-notebook-cell:/c%3A/Users/natha/OneDrive/Documents/chimeric-spectra/spectra/test.ipynb#X41sZmlsZQ%3D%3D?line=30'>31</a>\u001b[0m file1_indexes \u001b[39m=\u001b[39m np\u001b[39m.\u001b[39mwhere(np\u001b[39m.\u001b[39misin(np\u001b[39m.\u001b[39marray(unique_m_zs), np\u001b[39m.\u001b[39marray(scan\u001b[39m.\u001b[39mm_z)))[\u001b[39m0\u001b[39m]\n\u001b[0;32m     <a href='vscode-notebook-cell:/c%3A/Users/natha/OneDrive/Documents/chimeric-spectra/spectra/test.ipynb#X41sZmlsZQ%3D%3D?line=31'>32</a>\u001b[0m file1_intensity[file1_indexes] \u001b[39m=\u001b[39m scan\u001b[39m.\u001b[39mintensity\n\u001b[0;32m     <a href='vscode-notebook-cell:/c%3A/Users/natha/OneDrive/Documents/chimeric-spectra/spectra/test.ipynb#X41sZmlsZQ%3D%3D?line=33'>34</a>\u001b[0m \u001b[39m###################################\u001b[39;00m\n\u001b[0;32m     <a href='vscode-notebook-cell:/c%3A/Users/natha/OneDrive/Documents/chimeric-spectra/spectra/test.ipynb#X41sZmlsZQ%3D%3D?line=34'>35</a>\u001b[0m \u001b[39m# for m_z in chimeric_scan.m_z :\u001b[39;00m\n\u001b[0;32m     <a href='vscode-notebook-cell:/c%3A/Users/natha/OneDrive/Documents/chimeric-spectra/spectra/test.ipynb#X41sZmlsZQ%3D%3D?line=35'>36</a>\u001b[0m \u001b[39m#     if m_z in scan.m_z :\u001b[39;00m\n\u001b[1;32m   (...)\u001b[0m\n\u001b[0;32m     <a href='vscode-notebook-cell:/c%3A/Users/natha/OneDrive/Documents/chimeric-spectra/spectra/test.ipynb#X41sZmlsZQ%3D%3D?line=41'>42</a>\u001b[0m \u001b[39m# file1_intensity[file1_indexes] = scan.intensity\u001b[39;00m\n\u001b[0;32m     <a href='vscode-notebook-cell:/c%3A/Users/natha/OneDrive/Documents/chimeric-spectra/spectra/test.ipynb#X41sZmlsZQ%3D%3D?line=42'>43</a>\u001b[0m \u001b[39m####################################\u001b[39;00m\n",
      "\u001b[1;31mKeyboardInterrupt\u001b[0m: "
     ]
    }
   ],
   "source": [
    "series1_alt_scan_intensity = np.zeros(len(unique_m_zs))\n",
    "series1_alt_scan.m_z = bin_m_z(series1_alt_scan)\n",
    "series1_alt_scan.m_z, series1_alt_scan.intensity = combine_duplicates(series1_alt_scan)\n",
    "indexes = np.where(np.isin(np.array(unique_m_zs), np.array(series1_alt_scan.m_z)))[0]\n",
    "series1_alt_scan_intensity[indexes] = series1_alt_scan.intensity\n",
    "\n",
    "correct_scores = []\n",
    "correct_coefficients = []\n",
    "one_wrong_scores = []\n",
    "one_wrong_coefficients = []\n",
    "bad_scores = []\n",
    "bad_coefficients = []\n",
    "\n",
    "correct_cosine_similarities = []\n",
    "one_wrong_cosine_similarities = []\n",
    "two_wrong_cosine_similarities = []\n",
    "\n",
    "i = 0\n",
    "for chimeric_index, scan in file1_alt_scans_info.loc[pd.notnull(file1_alt_scans_info['Scan']), ['Chimeric Index', 'Scan']].values :\n",
    "    chimeric_scan = chimeric_scans[chimeric_index]\n",
    "    chimeric_scan.m_z = bin_m_z(chimeric_scan)\n",
    "    chimeric_scan.m_z, chimeric_scan.intensity = combine_duplicates(chimeric_scan)\n",
    "    chimeric_intensity = np.zeros(len(unique_m_zs))\n",
    "    chimeric_indexes = np.where(np.isin(np.array(unique_m_zs), np.array(chimeric_scan.m_z)))[0] # potential problem, what if chimeric spectra \n",
    "                                                                              # has m_z values that didn't occur in the original spectra? \n",
    "    chimeric_intensity[chimeric_indexes] = chimeric_scan.intensity\n",
    "\n",
    "    file1_intensity = np.zeros(len(unique_m_zs))\n",
    "    scan.m_z = bin_m_z(scan)\n",
    "    scan.m_z, scan.intensity = combine_duplicates(scan)\n",
    "    file1_indexes = np.where(np.isin(np.array(unique_m_zs), np.array(scan.m_z)))[0]\n",
    "    file1_intensity[file1_indexes] = scan.intensity\n",
    "\n",
    "    ###################################\n",
    "    # for m_z in chimeric_scan.m_z :\n",
    "    #     if m_z in scan.m_z :\n",
    "    #         scan.intensity[scan.m_z.index(m_z)] = chimeric_scan.intensity[chimeric_scan.m_z.index(m_z)]\n",
    "    #     if m_z in series1_alt_scan.m_z :\n",
    "    #         series1_alt_scan.intensity[series1_alt_scan.m_z.index(m_z)] = chimeric_scan.intensity[chimeric_scan.m_z.index(m_z)]\n",
    "    \n",
    "    # series1_alt_scan_intensity[indexes] = series1_alt_scan.intensity\n",
    "    # file1_intensity[file1_indexes] = scan.intensity\n",
    "    ####################################\n",
    "\n",
    "    A = pd.DataFrame({series1_scans[0].title: series1_scan_intensity_fake,\n",
    "                      scan.title: file1_intensity}, index=unique_m_zs)\n",
    "    b = chimeric_intensity\n",
    "    model = LinearRegression(fit_intercept=False, positive=True)\n",
    "    model.fit(A, b)\n",
    "    correct_scores.append(np.linalg.norm(model.predict(A)-b))\n",
    "    correct_coefficients.append(model.coef_)\n",
    "    correct_cosine_similarities.append(get_cosine_similarity(chimeric_intensity, series1_scan_intensity_fake + file1_intensity))\n",
    "\n",
    "    if i >= 1 :\n",
    "        A = pd.DataFrame({'one_ago': one_ago, \n",
    "                          'current':file1_intensity}, index=unique_m_zs)\n",
    "        b = np.array(chimeric_intensity)\n",
    "        model = LinearRegression(fit_intercept=False, positive=True)\n",
    "        model.fit(A, b)\n",
    "        one_wrong_scores.append(np.linalg.norm(model.predict(A)-b))\n",
    "        one_wrong_coefficients.append(model.coef_)\n",
    "        one_wrong_cosine_similarities.append(get_cosine_similarity(chimeric_intensity, one_ago + file1_intensity))\n",
    "\n",
    "    if i >= 2 :\n",
    "        A = pd.DataFrame({'one_ago': one_ago,\n",
    "                          'two_ago': two_ago}, index=unique_m_zs)\n",
    "        b = np.array(chimeric_intensity)\n",
    "        model = LinearRegression(fit_intercept=False, positive=True)\n",
    "        model.fit(A, b)\n",
    "        bad_scores.append(np.linalg.norm(model.predict(A)-b))\n",
    "        bad_coefficients.append(model.coef_)\n",
    "        two_wrong_cosine_similarities.append(get_cosine_similarity(chimeric_intensity, one_ago + two_ago))\n",
    "\n",
    "\n",
    "    if i >= 1 :\n",
    "        two_ago = one_ago\n",
    "    one_ago = file1_intensity\n",
    "\n",
    "    i += 1\n",
    "\n",
    "    if i % 100 == 0 : \n",
    "        print(i/len(file1_alt_scans_info.loc[pd.notnull(file1_alt_scans_info['Scan']), 'Scan']))"
   ]
  },
  {
   "cell_type": "code",
   "execution_count": 155,
   "metadata": {},
   "outputs": [],
   "source": [
    "master = pd.DataFrame({'Correct Residual': correct_scores[:3215],\n",
    "                       'Correct Cosine Similarity': correct_cosine_similarities[:3215],\n",
    "                       'OW Residual': one_wrong_scores[:3215],\n",
    "                       'OW Cosine': one_wrong_cosine_similarities[:3215],\n",
    "                       'TW Residaul': bad_scores,\n",
    "                       'TW Cosine': two_wrong_cosine_similarities})"
   ]
  },
  {
   "cell_type": "code",
   "execution_count": 168,
   "metadata": {},
   "outputs": [
    {
     "data": {
      "text/plain": [
       "<seaborn.axisgrid.FacetGrid at 0x26d8b1d2bd0>"
      ]
     },
     "execution_count": 168,
     "metadata": {},
     "output_type": "execute_result"
    },
    {
     "data": {
      "image/png": "[encoded data removed]",
      "text/plain": [
       "<Figure size 625.875x500 with 1 Axes>"
      ]
     },
     "metadata": {},
     "output_type": "display_data"
    }
   ],
   "source": [
    "correct = pd.DataFrame({'Cosine Similarity': correct_cosine_similarities})\n",
    "ow = pd.DataFrame({'Cosine Similarity': one_wrong_cosine_similarities})\n",
    "tw = pd.DataFrame({'Cosine Similarity': two_wrong_cosine_similarities})\n",
    "\n",
    "correct['Distribution'] = 'Target'\n",
    "ow['Distribution'] = 'Half Decoy'\n",
    "tw['Distribution'] = 'Full Decoy'\n",
    "\n",
    "data = pd.concat([correct, ow, tw])\n",
    "\n",
    "sns.displot(data, x=\"Cosine Similarity\", kind=\"kde\", hue='Distribution', bw_adjust=0.5)"
   ]
  },
  {
   "cell_type": "code",
   "execution_count": 171,
   "metadata": {},
   "outputs": [],
   "source": [
    "corr_coefficients = [l[i] for i in range(2) for l in correct_coefficients]\n",
    "one_wrong_coefficients = [l[i] for i in range(2) for l in one_wrong_coefficients]\n",
    "bad_coefficients = [l[i] for i in range(2) for l in bad_coefficients]"
   ]
  },
  {
   "cell_type": "code",
   "execution_count": 173,
   "metadata": {},
   "outputs": [],
   "source": [
    "c_sum_coef = [corr_coefficients[i] + corr_coefficients[i+1] for i in range(0,len(corr_coefficients), 2)]\n",
    "ow_sum_coef = [one_wrong_coefficients[i] + one_wrong_coefficients[i+1] for i in range(0, len(one_wrong_coefficients), 2)]\n",
    "tw_sum_coef = [bad_coefficients[i] + bad_coefficients[i+1] for i in range(0, len(bad_coefficients), 2)]"
   ]
  },
  {
   "cell_type": "code",
   "execution_count": 180,
   "metadata": {},
   "outputs": [
    {
     "data": {
      "text/plain": [
       "(-0.3, 1.5)"
      ]
     },
     "execution_count": 180,
     "metadata": {},
     "output_type": "execute_result"
    },
    {
     "data": {
      "text/plain": [
       "<Figure size 640x480 with 0 Axes>"
      ]
     },
     "metadata": {},
     "output_type": "display_data"
    },
    {
     "data": {
      "image/png": "[encoded data removed]",
      "text/plain": [
       "<Figure size 625.875x500 with 1 Axes>"
      ]
     },
     "metadata": {},
     "output_type": "display_data"
    }
   ],
   "source": [
    "c = pd.DataFrame({'Sum Coeff': corr_coefficients})\n",
    "o = pd.DataFrame({'Sum Coeff': one_wrong_coefficients})\n",
    "t = pd.DataFrame({'Sum Coeff': bad_coefficients})\n",
    "\n",
    "c['Distribution'] = 'Target'\n",
    "o['Distribution'] = 'Half Decoy'\n",
    "t['Distribution'] = 'Full Decoy'\n",
    "\n",
    "data = pd.concat([c, o, t])\n",
    "\n",
    "plt.clf()\n",
    "sns.displot(data, x=\"Sum Coeff\", kind=\"kde\", hue='Distribution')\n",
    "plt.xlim(-.3, 1.5)"
   ]
  },
  {
   "cell_type": "code",
   "execution_count": 183,
   "metadata": {},
   "outputs": [],
   "source": [
    "sum_coeff = pd.DataFrame({'Target Coeff Sum': c_sum_coef[:len(tw_sum_coef)],\n",
    "                          'Half Decoy Coeff Sum': ow_sum_coef[:len(tw_sum_coef)],\n",
    "                          'Full Decoy Coeff Sum': tw_sum_coef})"
   ]
  },
  {
   "cell_type": "code",
   "execution_count": 185,
   "metadata": {},
   "outputs": [
    {
     "data": {
      "text/plain": [
       "Ttest_indResult(statistic=4.690764024577512, pvalue=2.7781230595321764e-06)"
      ]
     },
     "execution_count": 185,
     "metadata": {},
     "output_type": "execute_result"
    }
   ],
   "source": [
    "stats.ttest_ind(c_sum_coef, ow_sum_coef)"
   ]
  },
  {
   "cell_type": "code",
   "execution_count": 186,
   "metadata": {},
   "outputs": [
    {
     "data": {
      "text/plain": [
       "Ttest_indResult(statistic=15.536461272123683, pvalue=1.8258712711745468e-53)"
      ]
     },
     "execution_count": 186,
     "metadata": {},
     "output_type": "execute_result"
    }
   ],
   "source": [
    "stats.ttest_ind(ow_sum_coef, tw_sum_coef)"
   ]
  },
  {
   "cell_type": "code",
   "execution_count": 184,
   "metadata": {},
   "outputs": [
    {
     "data": {
      "text/html": [
       "<div>\n",
       "<style scoped>\n",
       "    .dataframe tbody tr th:only-of-type {\n",
       "        vertical-align: middle;\n",
       "    }\n",
       "\n",
       "    .dataframe tbody tr th {\n",
       "        vertical-align: top;\n",
       "    }\n",
       "\n",
       "    .dataframe thead th {\n",
       "        text-align: right;\n",
       "    }\n",
       "</style>\n",
       "<table border=\"1\" class=\"dataframe\">\n",
       "  <thead>\n",
       "    <tr style=\"text-align: right;\">\n",
       "      <th></th>\n",
       "      <th>Target Coeff Sum</th>\n",
       "      <th>Half Decoy Coeff Sum</th>\n",
       "      <th>Full Decoy Coeff Sum</th>\n",
       "    </tr>\n",
       "  </thead>\n",
       "  <tbody>\n",
       "    <tr>\n",
       "      <th>count</th>\n",
       "      <td>3215.000000</td>\n",
       "      <td>3215.000000</td>\n",
       "      <td>3215.000000</td>\n",
       "    </tr>\n",
       "    <tr>\n",
       "      <th>mean</th>\n",
       "      <td>0.275049</td>\n",
       "      <td>0.228635</td>\n",
       "      <td>0.085876</td>\n",
       "    </tr>\n",
       "    <tr>\n",
       "      <th>std</th>\n",
       "      <td>0.380027</td>\n",
       "      <td>0.412439</td>\n",
       "      <td>0.319171</td>\n",
       "    </tr>\n",
       "    <tr>\n",
       "      <th>min</th>\n",
       "      <td>0.000000</td>\n",
       "      <td>0.000000</td>\n",
       "      <td>0.000000</td>\n",
       "    </tr>\n",
       "    <tr>\n",
       "      <th>25%</th>\n",
       "      <td>0.155507</td>\n",
       "      <td>0.018365</td>\n",
       "      <td>0.007124</td>\n",
       "    </tr>\n",
       "    <tr>\n",
       "      <th>50%</th>\n",
       "      <td>0.155507</td>\n",
       "      <td>0.076065</td>\n",
       "      <td>0.028206</td>\n",
       "    </tr>\n",
       "    <tr>\n",
       "      <th>75%</th>\n",
       "      <td>0.228555</td>\n",
       "      <td>0.261938</td>\n",
       "      <td>0.081455</td>\n",
       "    </tr>\n",
       "    <tr>\n",
       "      <th>max</th>\n",
       "      <td>5.586495</td>\n",
       "      <td>5.585948</td>\n",
       "      <td>13.836475</td>\n",
       "    </tr>\n",
       "  </tbody>\n",
       "</table>\n",
       "</div>"
      ],
      "text/plain": [
       "       Target Coeff Sum  Half Decoy Coeff Sum  Full Decoy Coeff Sum\n",
       "count       3215.000000           3215.000000           3215.000000\n",
       "mean           0.275049              0.228635              0.085876\n",
       "std            0.380027              0.412439              0.319171\n",
       "min            0.000000              0.000000              0.000000\n",
       "25%            0.155507              0.018365              0.007124\n",
       "50%            0.155507              0.076065              0.028206\n",
       "75%            0.228555              0.261938              0.081455\n",
       "max            5.586495              5.585948             13.836475"
      ]
     },
     "execution_count": 184,
     "metadata": {},
     "output_type": "execute_result"
    }
   ],
   "source": [
    "sum_coeff.describe()"
   ]
  },
  {
   "cell_type": "code",
   "execution_count": 169,
   "metadata": {},
   "outputs": [
    {
     "data": {
      "text/plain": [
       "[array([0.07775328, 0.26701122]),\n",
       " array([0.07775328, 0.0146772 ]),\n",
       " array([0.07775328, 0.1278801 ]),\n",
       " array([0.07775328, 0.00064681]),\n",
       " array([0.07775328, 0.00188846]),\n",
       " array([0.07775328, 0.        ]),\n",
       " array([0.07775328, 0.09371569]),\n",
       " array([0.07775328, 0.05884897]),\n",
       " array([0.07775328, 0.11736706]),\n",
       " array([0.07775328, 3.63985288]),\n",
       " array([0.07775328, 0.        ]),\n",
       " array([0.07775328, 0.01778884]),\n",
       " array([0.07775328, 0.35588858]),\n",
       " array([0.07775328, 0.06219178]),\n",
       " array([0.07775328, 0.        ]),\n",
       " array([0.07775328, 0.20122591]),\n",
       " array([0.07775328, 0.12713871]),\n",
       " array([0.07775328, 0.04019345]),\n",
       " array([0.07775328, 0.02774822]),\n",
       " array([0.07775328, 0.00100847]),\n",
       " array([0.07775328, 0.01256007]),\n",
       " array([0.07775328, 0.19684404]),\n",
       " array([0.07775328, 0.13554539]),\n",
       " array([0.07775328, 0.67068669]),\n",
       " array([0.07775328, 0.02310166]),\n",
       " array([0.07775328, 0.        ]),\n",
       " array([0.07775328, 0.07714273]),\n",
       " array([0.07775328, 0.18146222]),\n",
       " array([0.07775328, 0.19293281]),\n",
       " array([0.07775328, 0.80448106]),\n",
       " array([0.07775328, 0.56460309]),\n",
       " array([0.07775328, 0.50764327]),\n",
       " array([0.07775328, 0.08956839]),\n",
       " array([0.07775328, 0.        ]),\n",
       " array([0.07775328, 0.04622353]),\n",
       " array([0.07775328, 0.26077249]),\n",
       " array([0.07775328, 0.        ]),\n",
       " array([0.07775328, 0.01550588]),\n",
       " array([0.07775328, 0.06415545]),\n",
       " array([0.07775328, 0.02083804]),\n",
       " array([0.07775328, 0.27513138]),\n",
       " array([0.07775328, 0.        ]),\n",
       " array([0.07775328, 0.1538376 ]),\n",
       " array([0.07775328, 0.        ]),\n",
       " array([0.07775328, 0.01794766]),\n",
       " array([0.07775328, 0.46292577]),\n",
       " array([0.07775328, 0.07456064]),\n",
       " array([0.07775328, 0.00980893]),\n",
       " array([0.07775328, 0.07481114]),\n",
       " array([0.07775328, 0.07065651]),\n",
       " array([0.07775328, 0.02114825]),\n",
       " array([0.07775328, 0.        ]),\n",
       " array([0.07775328, 0.        ]),\n",
       " array([0.07775328, 0.27663773]),\n",
       " array([0.07775328, 0.        ]),\n",
       " array([0.07775328, 0.18317823]),\n",
       " array([0.07775328, 0.21244517]),\n",
       " array([0.07775328, 0.        ]),\n",
       " array([0.07775328, 0.        ]),\n",
       " array([0.07775328, 0.96649084]),\n",
       " array([0.07775328, 0.22952191]),\n",
       " array([0.07775328, 0.36416603]),\n",
       " array([0.07775328, 0.01126999]),\n",
       " array([0.07775328, 0.48216048]),\n",
       " array([0.07775328, 0.10214966]),\n",
       " array([0.07775328, 0.        ]),\n",
       " array([0.07775328, 0.74713295]),\n",
       " array([0.07775328, 0.        ]),\n",
       " array([0.07775328, 0.        ]),\n",
       " array([0.07775328, 0.05699996]),\n",
       " array([0.07775328, 0.47142795]),\n",
       " array([7.77532829e-02, 1.36328379e-05]),\n",
       " array([0.07775328, 0.        ]),\n",
       " array([0.07775328, 0.01079406]),\n",
       " array([0.07775328, 0.09980159]),\n",
       " array([0.07589511, 0.16594761]),\n",
       " array([0.07775328, 0.        ]),\n",
       " array([0.07775328, 0.00452874]),\n",
       " array([0.07775328, 0.15737743]),\n",
       " array([0.07775328, 0.0060976 ]),\n",
       " array([0.07775328, 0.        ]),\n",
       " array([0.07775328, 0.05004319]),\n",
       " array([0.07775328, 0.        ]),\n",
       " array([0.07775328, 0.14548454]),\n",
       " array([0.07775328, 0.17433048]),\n",
       " array([0.07775328, 0.01316432]),\n",
       " array([0.07775328, 0.        ]),\n",
       " array([0.07775328, 0.18874716]),\n",
       " array([0.07775328, 0.01393059]),\n",
       " array([0.07775328, 0.00155152]),\n",
       " array([0.07775328, 0.10163496]),\n",
       " array([0.07775328, 0.        ]),\n",
       " array([0.07775328, 0.00280796]),\n",
       " array([0.07775328, 0.00288927]),\n",
       " array([0.07775328, 0.24318529]),\n",
       " array([0.07775328, 0.        ]),\n",
       " array([0.07775328, 0.        ]),\n",
       " array([0.07775328, 0.        ]),\n",
       " array([0.07775328, 0.15250453]),\n",
       " array([0.07775328, 0.        ]),\n",
       " array([0.07775328, 0.29849827]),\n",
       " array([0.07775328, 0.0106691 ]),\n",
       " array([0.07775328, 0.24517119]),\n",
       " array([0.07775328, 0.02754128]),\n",
       " array([0.07775328, 0.36259376]),\n",
       " array([0.07775328, 0.02305071]),\n",
       " array([0.07775328, 0.        ]),\n",
       " array([0.07775328, 0.01123254]),\n",
       " array([0.07775328, 0.04920858]),\n",
       " array([0.07775328, 0.36501744]),\n",
       " array([0.07775328, 0.        ]),\n",
       " array([0.07775328, 0.18623008]),\n",
       " array([0.07775328, 0.20527489]),\n",
       " array([0.07775328, 0.00049597]),\n",
       " array([0.07775328, 0.01112114]),\n",
       " array([0.07775328, 0.0373219 ]),\n",
       " array([0.07775328, 0.00394453]),\n",
       " array([0.07775328, 0.05705661]),\n",
       " array([0.07775328, 0.01700882]),\n",
       " array([0.07775328, 0.47091365]),\n",
       " array([0.07775328, 0.11185676]),\n",
       " array([0.07775328, 0.5483622 ]),\n",
       " array([0.07775328, 0.05317112]),\n",
       " array([0.07775328, 0.26259045]),\n",
       " array([0.07775328, 0.05925457]),\n",
       " array([0.07775328, 0.26320233]),\n",
       " array([0.07775328, 0.05843187]),\n",
       " array([0.07775328, 0.0537898 ]),\n",
       " array([0.07775328, 0.07645131]),\n",
       " array([0.07775328, 0.19568339]),\n",
       " array([0.07775328, 0.00483704]),\n",
       " array([0.07775328, 0.01655741]),\n",
       " array([0.07775328, 0.04166896]),\n",
       " array([0.07775328, 0.00306514]),\n",
       " array([0.07775328, 0.0582929 ]),\n",
       " array([0.07775328, 0.2916045 ]),\n",
       " array([0.07775328, 0.6719954 ]),\n",
       " array([0.07775328, 0.05719729]),\n",
       " array([0.07775328, 0.0391726 ]),\n",
       " array([0.07775328, 0.16654552]),\n",
       " array([0.07775328, 0.00039241]),\n",
       " array([0.07775328, 0.03323497]),\n",
       " array([0.07775328, 0.46224465]),\n",
       " array([0.07775328, 0.06468397]),\n",
       " array([0.07775328, 0.3710972 ]),\n",
       " array([0.07775328, 0.        ]),\n",
       " array([0.07775328, 0.08034809]),\n",
       " array([0.07775328, 0.09374588]),\n",
       " array([0.07775328, 0.25578152]),\n",
       " array([0.07775328, 0.02351504]),\n",
       " array([0.07775328, 0.02386353]),\n",
       " array([0.07775328, 0.18519755]),\n",
       " array([0.07775328, 0.40172551]),\n",
       " array([0.07775328, 0.02087424]),\n",
       " array([0.07775328, 0.        ]),\n",
       " array([0.07775328, 0.19260814]),\n",
       " array([0.07775328, 0.03153225]),\n",
       " array([0.07775328, 0.45832736]),\n",
       " array([0.07775328, 0.28561197]),\n",
       " array([0.07775328, 0.        ]),\n",
       " array([0.07775328, 0.02750431]),\n",
       " array([0.07775328, 0.01027248]),\n",
       " array([0.07775328, 0.13727582]),\n",
       " array([0.07775328, 0.97257046]),\n",
       " array([0.07775328, 0.00701038]),\n",
       " array([0.07775328, 0.        ]),\n",
       " array([0.07775328, 0.00752047]),\n",
       " array([0.07775328, 0.00821322]),\n",
       " array([0.07775328, 0.        ]),\n",
       " array([0.07775328, 0.00641972]),\n",
       " array([0.07775328, 0.40158773]),\n",
       " array([0.07775328, 0.01550428]),\n",
       " array([0.07775328, 1.2382633 ]),\n",
       " array([0.07775328, 0.08352558]),\n",
       " array([0.07775328, 0.01962308]),\n",
       " array([0.07775328, 0.36893457]),\n",
       " array([0.07775328, 0.11781211]),\n",
       " array([0.07775328, 0.02951667]),\n",
       " array([0.07775328, 0.17058579]),\n",
       " array([0.07775328, 0.22073952]),\n",
       " array([0.07775328, 0.32145087]),\n",
       " array([0.07775328, 0.37925723]),\n",
       " array([0.07775328, 0.19825619]),\n",
       " array([0.07775328, 0.13845487]),\n",
       " array([0.07775328, 0.04325669]),\n",
       " array([0.07775328, 0.02056164]),\n",
       " array([0.07775328, 0.        ]),\n",
       " array([0.07775328, 0.00876891]),\n",
       " array([0.07775328, 0.02836926]),\n",
       " array([0.07775328, 0.29898902]),\n",
       " array([0.07775328, 0.34926254]),\n",
       " array([0.07775328, 0.05848861]),\n",
       " array([0.07775328, 0.74365546]),\n",
       " array([0.07775328, 0.05512156]),\n",
       " array([0.07775328, 0.06382354]),\n",
       " array([0.07775328, 0.03804873]),\n",
       " array([0.07775328, 0.0135548 ]),\n",
       " array([0.07775328, 0.15565328]),\n",
       " array([0.07775328, 0.16354133]),\n",
       " array([0.07775328, 0.02293018]),\n",
       " array([0.07775328, 0.0322662 ]),\n",
       " array([0.07775328, 0.00815375]),\n",
       " array([0.07775328, 0.68544261]),\n",
       " array([0.07775328, 0.13337834]),\n",
       " array([0.07775328, 0.17274044]),\n",
       " array([0.07775328, 0.17914703]),\n",
       " array([0.07775328, 0.11964099]),\n",
       " array([0.07775328, 0.06432607]),\n",
       " array([0.07775328, 0.32373027]),\n",
       " array([0.07775328, 0.00976629]),\n",
       " array([0.07775328, 0.        ]),\n",
       " array([0.07775328, 0.28331455]),\n",
       " array([0.07775328, 0.73923246]),\n",
       " array([0.07775328, 0.04102515]),\n",
       " array([0.07775328, 0.0284291 ]),\n",
       " array([0.07775328, 0.46112545]),\n",
       " array([0.07775328, 0.07881219]),\n",
       " array([0.07775328, 0.00513277]),\n",
       " array([0.07775328, 0.10828107]),\n",
       " array([0.07775328, 0.17589195]),\n",
       " array([0.07775328, 0.20276372]),\n",
       " array([0.07775328, 0.260588  ]),\n",
       " array([0.07775328, 1.34589377]),\n",
       " array([0.07775328, 0.00041804]),\n",
       " array([0.07775328, 0.57532235]),\n",
       " array([0.07775328, 0.11247791]),\n",
       " array([0.07775328, 0.07424518]),\n",
       " array([0.07775328, 0.        ]),\n",
       " array([0.07775328, 1.23677065]),\n",
       " array([0.07775328, 0.01581648]),\n",
       " array([0.07775328, 0.58317429]),\n",
       " array([0.07775328, 0.01397032]),\n",
       " array([0.07775328, 0.13852765]),\n",
       " array([0.07775328, 0.11292859]),\n",
       " array([0.07775328, 0.08744981]),\n",
       " array([0.07775328, 0.23276096]),\n",
       " array([0.07775328, 0.        ]),\n",
       " array([0.07775328, 0.01270113]),\n",
       " array([0.07775328, 0.        ]),\n",
       " array([0.07775328, 0.32404834]),\n",
       " array([0.07775328, 0.        ]),\n",
       " array([0.07775328, 0.        ]),\n",
       " array([0.07775328, 0.33025191]),\n",
       " array([0.07775328, 0.28714035]),\n",
       " array([0.07775328, 0.71906429]),\n",
       " array([0.07775328, 0.        ]),\n",
       " array([0.07775328, 0.52934593]),\n",
       " array([0.07775328, 0.37823653]),\n",
       " array([0.07775328, 0.        ]),\n",
       " array([0.07775328, 0.21139886]),\n",
       " array([0.07775328, 0.1748385 ]),\n",
       " array([0.07775328, 0.0696001 ]),\n",
       " array([0.07775328, 0.00541215]),\n",
       " array([0.07775328, 0.00269775]),\n",
       " array([0.07775328, 0.48726456]),\n",
       " array([0.07775328, 0.        ]),\n",
       " array([0.07775328, 0.06708335]),\n",
       " array([0.07775328, 0.48176094]),\n",
       " array([0.07775328, 0.34529567]),\n",
       " array([0.07775328, 0.0927832 ]),\n",
       " array([0.07775328, 0.09706774]),\n",
       " array([0.07775328, 0.15156799]),\n",
       " array([0.07775328, 0.00157577]),\n",
       " array([0.07775328, 0.09796622]),\n",
       " array([0.07775328, 0.96946905]),\n",
       " array([0.07775328, 0.45750637]),\n",
       " array([0.07775328, 0.        ]),\n",
       " array([0.07775328, 0.0239691 ]),\n",
       " array([0.07775328, 0.29841489]),\n",
       " array([0.07775328, 0.11710782]),\n",
       " array([0.07775328, 0.00850133]),\n",
       " array([0.07775328, 0.03681026]),\n",
       " array([0.07775328, 0.0358717 ]),\n",
       " array([0.07775328, 0.21969108]),\n",
       " array([0.07775328, 0.0075331 ]),\n",
       " array([0.07775328, 0.19487441]),\n",
       " array([0.07775328, 0.02190724]),\n",
       " array([0.07775328, 0.36796552]),\n",
       " array([0.07775328, 0.01522411]),\n",
       " array([0.07775328, 0.21523044]),\n",
       " array([0.07775328, 1.52047949]),\n",
       " array([0.07775328, 0.11728894]),\n",
       " array([0.07775328, 0.00538102]),\n",
       " array([0.07775328, 0.09394416]),\n",
       " array([0.07775328, 0.40981129]),\n",
       " array([0.07775328, 0.01202024]),\n",
       " array([0.07775328, 0.00293771]),\n",
       " array([0.07775328, 0.0533434 ]),\n",
       " array([0.07775328, 4.48836073]),\n",
       " array([0.07775328, 0.11915297]),\n",
       " array([0.07775328, 0.06163346]),\n",
       " array([0.07775328, 0.66329737]),\n",
       " array([0.07775328, 0.01673018]),\n",
       " array([0.07775328, 0.09271433]),\n",
       " array([0.07775328, 0.        ]),\n",
       " array([0.07775328, 0.06153091]),\n",
       " array([0.07775328, 0.        ]),\n",
       " array([0.07775328, 0.00737   ]),\n",
       " array([0.07775328, 0.        ]),\n",
       " array([0.07775328, 0.16037391]),\n",
       " array([0.07775328, 0.19316924]),\n",
       " array([0.07775328, 0.25687401]),\n",
       " array([0.07775328, 0.23461999]),\n",
       " array([0.07775328, 0.12097073]),\n",
       " array([0.07775328, 0.        ]),\n",
       " array([0.07775328, 0.00481239]),\n",
       " array([0.07775328, 0.02281867]),\n",
       " array([0.07775328, 0.05603376]),\n",
       " array([0.07775328, 0.02253459]),\n",
       " array([0.07775328, 0.39664195]),\n",
       " array([0.07775328, 0.05912123]),\n",
       " array([0.07775328, 0.02328275]),\n",
       " array([0.07775328, 0.06882662]),\n",
       " array([0.07775328, 0.        ]),\n",
       " array([0.07775328, 0.93251251]),\n",
       " array([0.07775328, 1.37631006]),\n",
       " array([0.07775328, 0.10981588]),\n",
       " array([0.07775328, 0.        ]),\n",
       " array([0.07775328, 0.09756561]),\n",
       " array([0.07775328, 0.06025865]),\n",
       " array([0.07775328, 0.30045174]),\n",
       " array([0.07775328, 0.21188532]),\n",
       " array([0.07775328, 0.25030165]),\n",
       " array([0.07775328, 0.13858386]),\n",
       " array([0.07775328, 0.        ]),\n",
       " array([0.07775328, 0.1188944 ]),\n",
       " array([0.07775328, 0.22992985]),\n",
       " array([0.07775328, 0.20753595]),\n",
       " array([0.07775328, 0.26480952]),\n",
       " array([0.07775328, 0.        ]),\n",
       " array([0.07775328, 0.07845289]),\n",
       " array([0.07775328, 0.09970493]),\n",
       " array([0.07775328, 0.07249167]),\n",
       " array([0.07775328, 0.15957822]),\n",
       " array([0.07775328, 0.48782142]),\n",
       " array([0.07775328, 0.47845297]),\n",
       " array([0.07775328, 0.00443152]),\n",
       " array([0.07775328, 0.03659945]),\n",
       " array([0.07775328, 0.50540189]),\n",
       " array([0.07775328, 0.        ]),\n",
       " array([0.07775328, 0.04552708]),\n",
       " array([0.07775328, 0.58316877]),\n",
       " array([0.07775328, 0.13533832]),\n",
       " array([0.07775328, 0.12952383]),\n",
       " array([0.07775328, 0.98950353]),\n",
       " array([0.07775328, 0.15561533]),\n",
       " array([0.07775328, 0.00278105]),\n",
       " array([0.07775328, 0.0344523 ]),\n",
       " array([0.07775328, 0.03547375]),\n",
       " array([0.07775328, 0.        ]),\n",
       " array([0.07775328, 0.05428754]),\n",
       " array([0.07775328, 0.51353062]),\n",
       " array([0.07775328, 0.09479459]),\n",
       " array([0.07775328, 0.08433019]),\n",
       " array([0.07775328, 0.11447065]),\n",
       " array([0.07775328, 0.01372428]),\n",
       " array([0.07775328, 0.15229699]),\n",
       " array([0.07775328, 0.04366024]),\n",
       " array([0.07775328, 0.0120689 ]),\n",
       " array([0.07775328, 0.00106315]),\n",
       " array([0.07775328, 1.03287925]),\n",
       " array([0.07775328, 0.08841729]),\n",
       " array([0.07775328, 0.17360126]),\n",
       " array([0.07775328, 0.79601432]),\n",
       " array([0.07775328, 0.13612469]),\n",
       " array([0.07775328, 0.00202294]),\n",
       " array([0.07775328, 0.65038112]),\n",
       " array([0.07775328, 0.13555974]),\n",
       " array([0.07775328, 0.05803042]),\n",
       " array([0.07775328, 0.04613705]),\n",
       " array([0.07775328, 0.39557236]),\n",
       " array([0.07775328, 0.00498716]),\n",
       " array([0.07775328, 0.35140603]),\n",
       " array([0.07775328, 0.02278477]),\n",
       " array([0.07775328, 0.08682551]),\n",
       " array([0.07775328, 0.68024283]),\n",
       " array([0.07775328, 0.15883841]),\n",
       " array([0.07775328, 0.14459495]),\n",
       " array([0.07775328, 0.00228979]),\n",
       " array([0.07775328, 0.1359373 ]),\n",
       " array([0.07775328, 0.05113832]),\n",
       " array([0.07775328, 0.001192  ]),\n",
       " array([0.07775328, 0.        ]),\n",
       " array([0.07775328, 0.01128364]),\n",
       " array([0.07775328, 0.09058313]),\n",
       " array([0.07775328, 0.        ]),\n",
       " array([0.07775328, 0.13580214]),\n",
       " array([0.07775328, 0.02749023]),\n",
       " array([0.07775328, 0.0105919 ]),\n",
       " array([0.07775328, 0.00407021]),\n",
       " array([0.07775328, 0.47595618]),\n",
       " array([0.07775328, 0.        ]),\n",
       " array([0.07775328, 0.01929686]),\n",
       " array([0.07775328, 0.25383433]),\n",
       " array([0.07775328, 1.11247222]),\n",
       " array([0.07775328, 0.5113008 ]),\n",
       " array([0.07775328, 0.02526798]),\n",
       " array([0.07775328, 0.        ]),\n",
       " array([0.07775328, 0.53458485]),\n",
       " array([0.07775328, 0.02472738]),\n",
       " array([0.07775328, 0.01927941]),\n",
       " array([0.07775328, 0.        ]),\n",
       " array([0.07775328, 0.00344816]),\n",
       " array([0.07775328, 0.03844073]),\n",
       " array([0.07775328, 0.01405095]),\n",
       " array([0.07775328, 0.00470507]),\n",
       " array([0.07775328, 0.23880303]),\n",
       " array([0.07775328, 0.00876227]),\n",
       " array([0.07775328, 0.028992  ]),\n",
       " array([0.07775328, 0.07372641]),\n",
       " array([0.07775328, 0.03725249]),\n",
       " array([0.07775328, 0.03763767]),\n",
       " array([0.07775328, 0.01129101]),\n",
       " array([0.07775328, 0.06313425]),\n",
       " array([0.07775328, 0.08947603]),\n",
       " array([0.07775328, 0.30770802]),\n",
       " array([0.07775328, 0.04826851]),\n",
       " array([0.07775328, 0.4281439 ]),\n",
       " array([0.07775328, 0.72080191]),\n",
       " array([0.07775328, 2.72503255]),\n",
       " array([0.07775328, 0.03953976]),\n",
       " array([0.07775328, 0.57451642]),\n",
       " array([0.07775328, 0.0127545 ]),\n",
       " array([0.07775328, 0.39225038]),\n",
       " array([0.07775328, 0.00986581]),\n",
       " array([0.07775328, 0.10356738]),\n",
       " array([0.07775328, 0.44309989]),\n",
       " array([0.07775328, 0.000491  ]),\n",
       " array([0.07775328, 0.05991829]),\n",
       " array([0.07775328, 0.24225542]),\n",
       " array([0.07775328, 0.04515951]),\n",
       " array([0.07775328, 0.146005  ]),\n",
       " array([0.07775328, 0.60652627]),\n",
       " array([0.07775328, 0.41991759]),\n",
       " array([0.07775328, 0.03475193]),\n",
       " array([0.07775328, 0.04171401]),\n",
       " array([0.07775328, 0.00362791]),\n",
       " array([0.07775328, 0.01995942]),\n",
       " array([0.07775328, 0.2436372 ]),\n",
       " array([0.07775328, 0.16579302]),\n",
       " array([0.07775328, 0.28136733]),\n",
       " array([0.07775328, 0.01192594]),\n",
       " array([0.07775328, 0.03324531]),\n",
       " array([0.07775328, 0.        ]),\n",
       " array([0.07775328, 0.01221916]),\n",
       " array([0.07775328, 0.        ]),\n",
       " array([0.07775328, 0.16860796]),\n",
       " array([0.07775328, 0.37173818]),\n",
       " array([0.07775328, 0.06021514]),\n",
       " array([0.07775328, 0.09622026]),\n",
       " array([0.07775328, 0.        ]),\n",
       " array([0.07775328, 0.68941003]),\n",
       " array([0.07775328, 0.11074717]),\n",
       " array([0.07775328, 0.02999436]),\n",
       " array([0.07775328, 0.02229512]),\n",
       " array([0.07775328, 0.18257762]),\n",
       " array([0.07775328, 0.02150135]),\n",
       " array([0.07775328, 0.14046354]),\n",
       " array([0.07775328, 0.03633265]),\n",
       " array([0.07775328, 0.20063146]),\n",
       " array([0.07775328, 0.1247159 ]),\n",
       " array([0.07775328, 0.31440888]),\n",
       " array([0.07775328, 0.15761872]),\n",
       " array([0.07775328, 0.0796256 ]),\n",
       " array([0.07775328, 0.05976071]),\n",
       " array([0.07775328, 0.52723472]),\n",
       " array([0.07775328, 0.36797917]),\n",
       " array([0.07775328, 0.15984127]),\n",
       " array([0.07775328, 0.02857192]),\n",
       " array([0.07775328, 0.02625111]),\n",
       " array([0.07775328, 0.        ]),\n",
       " array([0.07775328, 0.08862401]),\n",
       " array([0.07775328, 0.63058159]),\n",
       " array([0.07775328, 0.00271285]),\n",
       " array([0.07775328, 0.3766007 ]),\n",
       " array([0.07775328, 0.00375074]),\n",
       " array([0.07775328, 0.52132299]),\n",
       " array([0.07775328, 0.97711082]),\n",
       " array([0.07775328, 0.01098078]),\n",
       " array([0.07775328, 0.10513665]),\n",
       " array([0.07775328, 0.13924077]),\n",
       " array([0.07775328, 0.        ]),\n",
       " array([0.07775328, 0.01769071]),\n",
       " array([0.07775328, 0.        ]),\n",
       " array([0.07775328, 0.16130028]),\n",
       " array([0.07775328, 0.00837526]),\n",
       " array([0.07775328, 0.06839709]),\n",
       " array([0.07775328, 0.08194512]),\n",
       " array([0.07775328, 0.06911759]),\n",
       " array([0.07775328, 0.0674994 ]),\n",
       " array([0.07775328, 0.24610259]),\n",
       " array([0.07775328, 0.00189835]),\n",
       " array([0.07775328, 0.03997636]),\n",
       " array([0.07775328, 0.00841747]),\n",
       " array([0.07775328, 0.        ]),\n",
       " array([0.07775328, 0.42253159]),\n",
       " array([0.07775328, 0.        ]),\n",
       " array([0.07775328, 0.        ]),\n",
       " array([0.07775328, 0.03434156]),\n",
       " array([0.07775328, 0.0012396 ]),\n",
       " array([0.07775328, 0.22465366]),\n",
       " array([0.07775328, 0.02223184]),\n",
       " array([0.07775328, 0.21364706]),\n",
       " array([0.07775328, 0.        ]),\n",
       " array([0.07775328, 0.06570866]),\n",
       " array([0.07775328, 0.24380956]),\n",
       " array([0.07775328, 1.75619975]),\n",
       " array([0.07775328, 0.11428864]),\n",
       " array([0.07775328, 0.19831617]),\n",
       " array([0.07775328, 0.30329183]),\n",
       " array([0.07775328, 0.25687842]),\n",
       " array([0.07775328, 0.04647469]),\n",
       " array([0.07775328, 0.00376897]),\n",
       " array([0.07775328, 0.10932305]),\n",
       " array([0.07775328, 0.00330953]),\n",
       " array([0.07775328, 0.00090016]),\n",
       " array([0.07775328, 0.0001549 ]),\n",
       " array([0.07775328, 1.80251644]),\n",
       " array([0.07775328, 0.54607362]),\n",
       " array([0.07775328, 0.        ]),\n",
       " array([0.07775328, 0.01761398]),\n",
       " array([0.07775328, 0.02764845]),\n",
       " array([0.07775328, 0.0657392 ]),\n",
       " array([0.07775328, 0.06457924]),\n",
       " array([0.07775328, 0.10246979]),\n",
       " array([0.07775328, 0.08131135]),\n",
       " array([0.07775328, 0.00931066]),\n",
       " array([0.07775328, 0.49751196]),\n",
       " array([0.08829521, 0.13413276]),\n",
       " array([0.07775328, 0.60890233]),\n",
       " array([0.07775328, 0.07632686]),\n",
       " array([0.07775328, 0.01013633]),\n",
       " array([0.07775328, 0.71979661]),\n",
       " array([0.07775328, 0.42013589]),\n",
       " array([0.07775328, 0.04527666]),\n",
       " array([0.07775328, 0.01663532]),\n",
       " array([0.07775328, 0.17248045]),\n",
       " array([0.07775328, 0.00222764]),\n",
       " array([0.07775328, 0.00130053]),\n",
       " array([0.07775328, 0.21444104]),\n",
       " array([0.07775328, 0.23869215]),\n",
       " array([0.07775328, 0.49718033]),\n",
       " array([0.07775328, 0.12948671]),\n",
       " array([0.07775328, 0.03783311]),\n",
       " array([0.07775328, 0.56421667]),\n",
       " array([0.07775328, 0.03434525]),\n",
       " array([0.07775328, 0.21748446]),\n",
       " array([0.07775328, 0.42083091]),\n",
       " array([0.07775328, 0.40875493]),\n",
       " array([0.07775328, 0.17295955]),\n",
       " array([0.07775328, 0.23536219]),\n",
       " array([0.07775328, 0.01423376]),\n",
       " array([0.07775328, 0.11350932]),\n",
       " array([0.07775328, 0.07388338]),\n",
       " array([0.07775328, 0.10227594]),\n",
       " array([0.07775328, 0.01227313]),\n",
       " array([0.07775328, 0.69980703]),\n",
       " array([0.07775328, 0.02953269]),\n",
       " array([0.07775328, 0.08064361]),\n",
       " array([0.07775328, 0.04923562]),\n",
       " array([0.07775328, 0.5189331 ]),\n",
       " array([0.07775328, 1.53381842]),\n",
       " array([0.07775328, 0.07783523]),\n",
       " array([0.07775328, 0.21369058]),\n",
       " array([0.07775328, 0.42209368]),\n",
       " array([0.07775328, 0.2062078 ]),\n",
       " array([0.07775328, 0.06237708]),\n",
       " array([0.07775328, 0.        ]),\n",
       " array([0.07775328, 0.        ]),\n",
       " array([0.07775328, 0.01180614]),\n",
       " array([0.07775328, 0.19317801]),\n",
       " array([0.07775328, 0.10392414]),\n",
       " array([0.07775328, 0.01552163]),\n",
       " array([0.07775328, 0.00337198]),\n",
       " array([0.07775328, 0.        ]),\n",
       " array([0.07775328, 0.28871874]),\n",
       " array([0.07775328, 0.07944747]),\n",
       " array([0.07775328, 0.02166195]),\n",
       " array([0.07775328, 0.03649518]),\n",
       " array([0.07775328, 0.        ]),\n",
       " array([0.07775328, 0.07491661]),\n",
       " array([0.07775328, 0.54885751]),\n",
       " array([0.07775328, 0.01559104]),\n",
       " array([0.07775328, 1.07237537]),\n",
       " array([0.07775328, 0.28794177]),\n",
       " array([0.07775328, 0.02124791]),\n",
       " array([0.07775328, 0.75303837]),\n",
       " array([0.07775328, 0.        ]),\n",
       " array([0.07775328, 0.04632296]),\n",
       " array([0.07775328, 0.11365537]),\n",
       " array([0.07775328, 0.02217821]),\n",
       " array([0.07775328, 0.03684552]),\n",
       " array([0.07775328, 0.11661928]),\n",
       " array([0.07775328, 0.05716261]),\n",
       " array([0.07775328, 0.25347657]),\n",
       " array([0.07775328, 0.2078065 ]),\n",
       " array([0.07775328, 0.08419004]),\n",
       " array([0.07775328, 0.00310135]),\n",
       " array([0.07775328, 0.05381471]),\n",
       " array([0.07775328, 0.0494826 ]),\n",
       " array([0.07775328, 0.16556601]),\n",
       " array([0.07775328, 0.89787753]),\n",
       " array([0.07775328, 0.06171542]),\n",
       " array([0.07775328, 0.02700693]),\n",
       " array([0.07775328, 0.02981264]),\n",
       " array([0.07775328, 0.31233724]),\n",
       " array([0.07775328, 0.1028955 ]),\n",
       " array([0.07775328, 0.18776066]),\n",
       " array([0.07775328, 0.28765505]),\n",
       " array([0.07775328, 0.13671538]),\n",
       " array([0.07775328, 0.1206337 ]),\n",
       " array([0.07775328, 0.08218385]),\n",
       " array([0.07775328, 0.01249693]),\n",
       " array([0.07775328, 0.0767054 ]),\n",
       " array([0.07775328, 0.04691396]),\n",
       " array([0.07775328, 0.15710387]),\n",
       " array([0.07775328, 0.01086139]),\n",
       " array([0.07475414, 0.23948204]),\n",
       " array([0.07775328, 0.01540318]),\n",
       " array([0.07775328, 0.17886566]),\n",
       " array([0.07775328, 0.19101099]),\n",
       " array([0.07775328, 0.04801476]),\n",
       " array([0.07775328, 0.03822367]),\n",
       " array([0.07775328, 0.00021975]),\n",
       " array([0.07775328, 0.05277569]),\n",
       " array([0.07775328, 0.06815341]),\n",
       " array([0.07775328, 0.34708831]),\n",
       " array([0.07775328, 0.        ]),\n",
       " array([0.07775328, 0.32137466]),\n",
       " array([0.07775328, 0.11632167]),\n",
       " array([0.07775328, 0.05327161]),\n",
       " array([0.07775328, 0.18795122]),\n",
       " array([0.07775328, 0.08659865]),\n",
       " array([0.07775328, 0.03057935]),\n",
       " array([0.07775328, 0.23810386]),\n",
       " array([0.07775328, 0.        ]),\n",
       " array([0.07775328, 0.21052915]),\n",
       " array([0.07775328, 0.09038132]),\n",
       " array([0.07775328, 0.51764326]),\n",
       " array([0.07775328, 0.        ]),\n",
       " array([0.07775328, 0.34596791]),\n",
       " array([0.07775328, 0.05238421]),\n",
       " array([0.07775328, 0.0580158 ]),\n",
       " array([0.07775328, 0.08675929]),\n",
       " array([0.07775328, 0.51267964]),\n",
       " array([0.07775328, 0.        ]),\n",
       " array([0.07775328, 0.6980919 ]),\n",
       " array([0.07775328, 0.0245277 ]),\n",
       " array([0.07775328, 0.16748944]),\n",
       " array([0.07775328, 0.06998463]),\n",
       " array([0.07775328, 0.82316943]),\n",
       " array([0.07775328, 0.0036814 ]),\n",
       " array([0.07775328, 0.17621322]),\n",
       " array([0.07775328, 0.        ]),\n",
       " array([0.07775328, 0.10369947]),\n",
       " array([0.07775328, 0.45049472]),\n",
       " array([0.07775328, 0.19800287]),\n",
       " array([0.07775328, 0.59422829]),\n",
       " array([0.07775328, 0.20254882]),\n",
       " array([0.07775328, 0.36028272]),\n",
       " array([0.07775328, 0.22507472]),\n",
       " array([0.07775328, 0.48253609]),\n",
       " array([0.07775328, 0.09062139]),\n",
       " array([0.07775328, 0.02029213]),\n",
       " array([0.07775328, 0.08463232]),\n",
       " array([0.07775328, 0.08381107]),\n",
       " array([0.07775328, 0.16464583]),\n",
       " array([0.07775328, 0.09591982]),\n",
       " array([0.07775328, 0.20274375]),\n",
       " array([0.07775328, 1.27563963]),\n",
       " array([0.07775328, 0.33536718]),\n",
       " array([0.07775328, 0.07962542]),\n",
       " array([0.07775328, 0.14916075]),\n",
       " array([0.07775328, 0.05243346]),\n",
       " array([0.07775328, 0.00197017]),\n",
       " array([0.07775328, 0.71820719]),\n",
       " array([0.07775328, 0.37524513]),\n",
       " array([0.07775328, 0.34653477]),\n",
       " array([0.07775328, 0.14142549]),\n",
       " array([0.07775328, 0.8196772 ]),\n",
       " array([0.07775328, 0.18459344]),\n",
       " array([0.07775328, 0.52515121]),\n",
       " array([0.07775328, 0.20429199]),\n",
       " array([0.07775328, 0.05122846]),\n",
       " array([0.07775328, 0.02640771]),\n",
       " array([0.07775328, 0.42166526]),\n",
       " array([0.07775328, 0.71130252]),\n",
       " array([0.07775328, 0.11626044]),\n",
       " array([0.07775328, 0.09422378]),\n",
       " array([0.07775328, 0.15673513]),\n",
       " array([0.07775328, 0.01161564]),\n",
       " array([0.07775328, 0.00296433]),\n",
       " array([0.07775328, 0.03709163]),\n",
       " array([0.07775328, 0.35567749]),\n",
       " array([0.07775328, 0.00353316]),\n",
       " array([0.07775328, 0.50055728]),\n",
       " array([0.07775328, 0.15188558]),\n",
       " array([0.07775328, 0.        ]),\n",
       " array([0.07775328, 0.2399346 ]),\n",
       " array([0.07775328, 0.40132668]),\n",
       " array([0.07775328, 0.47017238]),\n",
       " array([0.07775328, 0.20365783]),\n",
       " array([0.07775328, 0.62207848]),\n",
       " array([0.07775328, 0.17617514]),\n",
       " array([0.07775328, 0.30366744]),\n",
       " array([0.07775328, 0.35268289]),\n",
       " array([0.07775328, 0.02620906]),\n",
       " array([0.07775328, 0.13681496]),\n",
       " array([0.07775328, 0.00311767]),\n",
       " array([0.07775328, 0.00414878]),\n",
       " array([0.07775328, 0.55783008]),\n",
       " array([0.07775328, 0.1285634 ]),\n",
       " array([0.07775328, 0.09958143]),\n",
       " array([0.07775328, 0.08642381]),\n",
       " array([0.07775328, 0.31630638]),\n",
       " array([0.07775328, 0.14785647]),\n",
       " array([0.07775328, 0.04742952]),\n",
       " array([0.07775328, 0.11416162]),\n",
       " array([0.07775328, 0.15301225]),\n",
       " array([0.07775328, 0.30115698]),\n",
       " array([0.07775328, 0.27893382]),\n",
       " array([0.07775328, 0.00247763]),\n",
       " array([0.07775328, 0.00509205]),\n",
       " array([7.77532829e-02, 8.76744758e-05]),\n",
       " array([0.07775328, 3.61265715]),\n",
       " array([0.07775328, 0.56364001]),\n",
       " array([0.07775328, 0.10223167]),\n",
       " array([0.07775328, 0.680122  ]),\n",
       " array([0.07775328, 0.0035366 ]),\n",
       " array([0.07775328, 0.24898048]),\n",
       " array([0.07775328, 0.00630683]),\n",
       " array([0.07775328, 0.01806984]),\n",
       " array([0.07700859, 0.05089497]),\n",
       " array([0.07775328, 0.20200761]),\n",
       " array([0.07775328, 0.        ]),\n",
       " array([0.07775328, 0.04082104]),\n",
       " array([0.07775328, 0.09322952]),\n",
       " array([0.07775328, 0.31488205]),\n",
       " array([0.07775328, 0.42608638]),\n",
       " array([0.07775328, 0.40214596]),\n",
       " array([0.07775328, 0.65453675]),\n",
       " array([0.07775328, 0.77174043]),\n",
       " array([0.07775328, 0.00207453]),\n",
       " array([0.07775328, 0.15641813]),\n",
       " array([0.07775328, 0.02314129]),\n",
       " array([0.07775328, 0.54951552]),\n",
       " array([0.07775328, 0.12404972]),\n",
       " array([0.07775328, 0.        ]),\n",
       " array([0.07775328, 0.00301459]),\n",
       " array([0.07775328, 0.07480977]),\n",
       " array([0.07775328, 0.00124321]),\n",
       " array([0.07775328, 0.0877134 ]),\n",
       " array([0.07775328, 0.02718252]),\n",
       " array([0.07775328, 0.03293022]),\n",
       " array([0.07775328, 0.07610186]),\n",
       " array([0.07775328, 0.12485044]),\n",
       " array([0.07775328, 0.10373407]),\n",
       " array([0.07775328, 0.32049733]),\n",
       " array([0.07775328, 0.38859396]),\n",
       " array([0.07775328, 0.60305702]),\n",
       " array([0.07775328, 0.06723902]),\n",
       " array([0.07775328, 0.14327877]),\n",
       " array([0.07775328, 0.06378852]),\n",
       " array([0.07775328, 0.03940877]),\n",
       " array([0.07775328, 0.06550104]),\n",
       " array([0.07775328, 0.01721575]),\n",
       " array([0.07775328, 0.        ]),\n",
       " array([0.07775328, 0.20600211]),\n",
       " array([0.07775328, 0.        ]),\n",
       " array([0.07775328, 0.52222944]),\n",
       " array([0.07775328, 0.08160733]),\n",
       " array([0.07775328, 0.81833501]),\n",
       " array([0.07775328, 0.1265087 ]),\n",
       " array([0.07775328, 0.19679445]),\n",
       " array([0.07775328, 0.02585438]),\n",
       " array([0.07775328, 0.09087139]),\n",
       " array([0.07775328, 0.01285105]),\n",
       " array([0.07775328, 0.01052278]),\n",
       " array([0.07775328, 0.07025299]),\n",
       " array([0.07775328, 0.00717689]),\n",
       " array([0.07775328, 0.05244425]),\n",
       " array([0.07775328, 0.04214041]),\n",
       " array([0.07775328, 0.        ]),\n",
       " array([0.07775328, 2.84947361]),\n",
       " array([0.07775328, 0.00270556]),\n",
       " array([0.07775328, 0.0239299 ]),\n",
       " array([0.07775328, 0.02099115]),\n",
       " array([0.07775328, 0.25760181]),\n",
       " array([0.07775328, 0.62572085]),\n",
       " array([0.07775328, 0.08139419]),\n",
       " array([0.07775328, 0.01491028]),\n",
       " array([0.07775328, 0.        ]),\n",
       " array([0.07775328, 0.05377364]),\n",
       " array([0.07775328, 0.        ]),\n",
       " array([0.07775328, 0.31220718]),\n",
       " array([0.07775328, 0.        ]),\n",
       " array([0.07775328, 0.07906559]),\n",
       " array([0.07775328, 0.07679651]),\n",
       " array([0.07775328, 0.        ]),\n",
       " array([0.07775328, 0.06174743]),\n",
       " array([0.07775328, 0.06534033]),\n",
       " array([0.07775328, 0.07050553]),\n",
       " array([0.07775328, 0.        ]),\n",
       " array([0.07775328, 0.3214386 ]),\n",
       " array([0.07775328, 0.04589547]),\n",
       " array([0.07775328, 0.28325855]),\n",
       " array([0.07775328, 0.13759612]),\n",
       " array([0.07775328, 0.4401739 ]),\n",
       " array([0.07775328, 0.0292181 ]),\n",
       " array([0.07775328, 0.        ]),\n",
       " array([0.07775328, 0.        ]),\n",
       " array([0.07775328, 0.02385855]),\n",
       " array([0.07775328, 0.44327329]),\n",
       " array([0.07775328, 0.85322763]),\n",
       " array([0.07775328, 0.0817924 ]),\n",
       " array([0.07775328, 0.0042389 ]),\n",
       " array([0.07775328, 0.27280916]),\n",
       " array([0.07775328, 0.02366619]),\n",
       " array([0.07775328, 0.26177599]),\n",
       " array([0.07775328, 0.383558  ]),\n",
       " array([0.07775328, 0.01257021]),\n",
       " array([0.07775328, 0.14914766]),\n",
       " array([0.07775328, 0.00346817]),\n",
       " array([0.07775328, 0.07022931]),\n",
       " array([0.07775328, 0.00101958]),\n",
       " array([0.07775328, 0.27791633]),\n",
       " array([0.07775328, 0.        ]),\n",
       " array([0.07775328, 0.22547355]),\n",
       " array([0.07775328, 0.07158559]),\n",
       " array([0.07775328, 0.20995475]),\n",
       " array([0.07775328, 0.09645014]),\n",
       " array([0.07775328, 0.1866865 ]),\n",
       " array([0.07775328, 0.03327605]),\n",
       " array([0.07775328, 0.0143441 ]),\n",
       " array([0.07775328, 0.06825239]),\n",
       " array([0.07775328, 0.05984204]),\n",
       " array([0.07775328, 0.05365086]),\n",
       " array([0.07775328, 0.        ]),\n",
       " array([0.07775328, 0.00356449]),\n",
       " array([0.07775328, 0.04595426]),\n",
       " array([0.07775328, 0.35296532]),\n",
       " array([0.07775328, 0.13623597]),\n",
       " array([0.07775328, 0.05250342]),\n",
       " array([0.07775328, 1.83228761]),\n",
       " array([0.07775328, 0.47212836]),\n",
       " array([0.07775328, 0.14995517]),\n",
       " array([0.07775328, 0.81731545]),\n",
       " array([0.07775328, 0.02845186]),\n",
       " array([0.07775328, 0.00926803]),\n",
       " array([0.07775328, 0.        ]),\n",
       " array([0.07775328, 0.03804659]),\n",
       " array([0.07775328, 0.41932191]),\n",
       " array([0.07775328, 0.34684242]),\n",
       " array([0.07775328, 0.02580127]),\n",
       " array([0.07775328, 0.0798259 ]),\n",
       " array([0.07775328, 0.43327595]),\n",
       " array([0.07775328, 0.0167295 ]),\n",
       " array([0.07775328, 0.73539799]),\n",
       " array([0.07775328, 0.30511121]),\n",
       " array([0.07775328, 0.00437816]),\n",
       " array([0.07775328, 0.40455099]),\n",
       " array([0.07775328, 0.07683763]),\n",
       " array([0.07775328, 0.00456475]),\n",
       " array([0.07775328, 0.21831034]),\n",
       " array([0.07775328, 0.01810943]),\n",
       " array([0.07775328, 0.06215937]),\n",
       " array([0.07775328, 0.60269861]),\n",
       " array([0.07775328, 0.        ]),\n",
       " array([0.07775328, 0.00314206]),\n",
       " array([0.07775328, 0.        ]),\n",
       " array([0.07775328, 0.01218941]),\n",
       " array([0.07775328, 0.02644049]),\n",
       " array([0.07775328, 0.00682564]),\n",
       " array([0.07775328, 0.02149458]),\n",
       " array([0.07775328, 0.17558256]),\n",
       " array([0.07775328, 0.09328049]),\n",
       " array([0.07775328, 0.09143993]),\n",
       " array([0.07775328, 0.0080974 ]),\n",
       " array([0.07775328, 0.00209652]),\n",
       " array([0.07775328, 0.49743067]),\n",
       " array([0.07775328, 0.13266369]),\n",
       " array([0.07775328, 0.29749597]),\n",
       " array([0.07775328, 0.37894918]),\n",
       " array([0.07775328, 0.28107361]),\n",
       " array([0.07775328, 0.0064799 ]),\n",
       " array([0.07775328, 0.        ]),\n",
       " array([0.07775328, 0.00712   ]),\n",
       " array([0.07775328, 0.69611353]),\n",
       " array([0.07775328, 0.20458049]),\n",
       " array([0.07775328, 0.        ]),\n",
       " array([0.07775328, 0.13948451]),\n",
       " array([0.07775328, 0.77175239]),\n",
       " array([0.07775328, 0.        ]),\n",
       " array([0.07775328, 0.02438216]),\n",
       " array([0.07775328, 0.00886693]),\n",
       " array([0.07775328, 0.18583761]),\n",
       " array([0.07775328, 0.03599081]),\n",
       " array([0.07775328, 0.05100298]),\n",
       " array([0.07775328, 0.0436313 ]),\n",
       " array([0.07775328, 0.00302124]),\n",
       " array([0.07775328, 0.02005189]),\n",
       " array([0.07775328, 0.0615641 ]),\n",
       " array([0.07775328, 0.01047936]),\n",
       " array([0.07775328, 0.79000537]),\n",
       " array([0.07775328, 0.00572027]),\n",
       " array([0.07775328, 0.06162437]),\n",
       " array([0.07775328, 0.03142823]),\n",
       " array([0.07775328, 0.4270502 ]),\n",
       " array([0.07775328, 0.11852308]),\n",
       " array([0.07775328, 0.72550708]),\n",
       " array([0.07775328, 0.0363699 ]),\n",
       " array([0.07775328, 0.0042744 ]),\n",
       " array([0.07775328, 0.47504072]),\n",
       " array([0.07775328, 0.04801056]),\n",
       " array([0.07775328, 0.02362955]),\n",
       " array([0.07775328, 0.34374539]),\n",
       " array([0.07775328, 0.        ]),\n",
       " array([0.07775328, 0.        ]),\n",
       " array([0.07775328, 0.04870306]),\n",
       " array([0.07775328, 0.65197741]),\n",
       " array([0.07775328, 0.00666558]),\n",
       " array([0.07775328, 0.16440597]),\n",
       " array([0.07775328, 0.0022301 ]),\n",
       " array([0.07775328, 0.82985387]),\n",
       " array([0.07775328, 0.51774871]),\n",
       " array([0.07775328, 0.02032823]),\n",
       " array([0.07775328, 0.18522634]),\n",
       " array([0.07775328, 0.48214001]),\n",
       " array([0.07775328, 0.02210257]),\n",
       " array([0.07775328, 0.02176719]),\n",
       " array([0.07775328, 0.02717327]),\n",
       " array([0.07775328, 0.00775087]),\n",
       " array([0.07775328, 0.10107114]),\n",
       " array([0.07775328, 0.06800527]),\n",
       " array([0.07775328, 0.07950059]),\n",
       " array([0.07775328, 0.0143226 ]),\n",
       " array([0.07775328, 0.        ]),\n",
       " array([0.07775328, 0.02861113]),\n",
       " array([0.07775328, 0.13468307]),\n",
       " array([0.07775328, 0.17413164]),\n",
       " array([0.07775328, 0.39399957]),\n",
       " array([0.07775328, 0.02620965]),\n",
       " array([0.07775328, 0.01847703]),\n",
       " array([0.07775328, 2.27550423]),\n",
       " array([0.07775328, 0.00623589]),\n",
       " array([0.07775328, 0.00586703]),\n",
       " array([0.07775328, 0.02870891]),\n",
       " array([0.07775328, 0.17958097]),\n",
       " array([0.07775328, 0.73804072]),\n",
       " array([0.07775328, 0.01943826]),\n",
       " array([0.07775328, 0.04010267]),\n",
       " array([0.07775328, 0.00922005]),\n",
       " array([0.07775328, 0.23402105]),\n",
       " array([0.07775328, 0.02511255]),\n",
       " array([0.07775328, 0.08532292]),\n",
       " array([0.07775328, 0.06007341]),\n",
       " array([0.07775328, 0.00834406]),\n",
       " array([0.07775328, 0.12553998]),\n",
       " array([0.07775328, 0.11955887]),\n",
       " array([0.07775328, 0.25988176]),\n",
       " array([0.07775328, 0.29507427]),\n",
       " array([0.07775328, 0.14079504]),\n",
       " array([0.07775328, 0.6362696 ]),\n",
       " array([0.07775328, 1.18325296]),\n",
       " array([0.07775328, 2.54128331]),\n",
       " array([0.07775328, 0.        ]),\n",
       " array([0.07775328, 0.00327611]),\n",
       " array([0.07775328, 0.05667994]),\n",
       " array([0.07775328, 0.11576432]),\n",
       " array([0.07775328, 0.18606375]),\n",
       " array([0.07775328, 0.32333705]),\n",
       " array([0.07775328, 0.00948049]),\n",
       " array([0.07775328, 1.04684579]),\n",
       " array([0.07775328, 0.00896462]),\n",
       " array([0.07775328, 0.0159043 ]),\n",
       " array([0.07775328, 0.        ]),\n",
       " array([0.07775328, 0.01411383]),\n",
       " array([0.07775328, 0.23581981]),\n",
       " array([0.07775328, 0.421174  ]),\n",
       " array([0.07775328, 0.07387521]),\n",
       " array([0.07775328, 0.17768196]),\n",
       " array([0.07775328, 0.04023124]),\n",
       " array([0.07775328, 0.00036961]),\n",
       " array([0.07775328, 0.50608049]),\n",
       " array([0.07775328, 0.48629216]),\n",
       " array([0.07775328, 0.08665401]),\n",
       " array([0.07775328, 0.27781142]),\n",
       " array([0.07775328, 0.14616921]),\n",
       " array([0.07775328, 0.9793745 ]),\n",
       " array([0.07775328, 0.00802327]),\n",
       " array([0.07775328, 0.07579251]),\n",
       " array([0.07775328, 0.00010077]),\n",
       " array([0.07775328, 0.25825864]),\n",
       " array([0.07775328, 0.10494626]),\n",
       " array([0.07775328, 0.00068638]),\n",
       " array([0.07775328, 0.47535877]),\n",
       " array([0.07775328, 0.16256794]),\n",
       " array([0.07775328, 0.36144579]),\n",
       " array([0.07775328, 0.06390129]),\n",
       " array([0.07775328, 0.55418578]),\n",
       " ...]"
      ]
     },
     "execution_count": 169,
     "metadata": {},
     "output_type": "execute_result"
    }
   ],
   "source": [
    "correct_coefficients"
   ]
  },
  {
   "cell_type": "code",
   "execution_count": 156,
   "metadata": {},
   "outputs": [
    {
     "data": {
      "text/html": [
       "<div>\n",
       "<style scoped>\n",
       "    .dataframe tbody tr th:only-of-type {\n",
       "        vertical-align: middle;\n",
       "    }\n",
       "\n",
       "    .dataframe tbody tr th {\n",
       "        vertical-align: top;\n",
       "    }\n",
       "\n",
       "    .dataframe thead th {\n",
       "        text-align: right;\n",
       "    }\n",
       "</style>\n",
       "<table border=\"1\" class=\"dataframe\">\n",
       "  <thead>\n",
       "    <tr style=\"text-align: right;\">\n",
       "      <th></th>\n",
       "      <th>Correct Residual</th>\n",
       "      <th>Correct Cosine Similarity</th>\n",
       "      <th>OW Residual</th>\n",
       "      <th>OW Cosine</th>\n",
       "      <th>TW Residaul</th>\n",
       "      <th>TW Cosine</th>\n",
       "    </tr>\n",
       "  </thead>\n",
       "  <tbody>\n",
       "    <tr>\n",
       "      <th>count</th>\n",
       "      <td>3.215000e+03</td>\n",
       "      <td>3215.000000</td>\n",
       "      <td>3.215000e+03</td>\n",
       "      <td>3215.000000</td>\n",
       "      <td>3.215000e+03</td>\n",
       "      <td>3215.000000</td>\n",
       "    </tr>\n",
       "    <tr>\n",
       "      <th>mean</th>\n",
       "      <td>7.594160e+04</td>\n",
       "      <td>0.144557</td>\n",
       "      <td>7.589604e+04</td>\n",
       "      <td>0.113244</td>\n",
       "      <td>7.945079e+04</td>\n",
       "      <td>0.030250</td>\n",
       "    </tr>\n",
       "    <tr>\n",
       "      <th>std</th>\n",
       "      <td>1.612852e+05</td>\n",
       "      <td>0.185349</td>\n",
       "      <td>1.611996e+05</td>\n",
       "      <td>0.158650</td>\n",
       "      <td>1.649510e+05</td>\n",
       "      <td>0.050118</td>\n",
       "    </tr>\n",
       "    <tr>\n",
       "      <th>min</th>\n",
       "      <td>8.840461e+03</td>\n",
       "      <td>0.000040</td>\n",
       "      <td>8.869601e+03</td>\n",
       "      <td>0.000000</td>\n",
       "      <td>8.869975e+03</td>\n",
       "      <td>0.000000</td>\n",
       "    </tr>\n",
       "    <tr>\n",
       "      <th>25%</th>\n",
       "      <td>2.175703e+04</td>\n",
       "      <td>0.023154</td>\n",
       "      <td>2.174334e+04</td>\n",
       "      <td>0.016098</td>\n",
       "      <td>2.227104e+04</td>\n",
       "      <td>0.004023</td>\n",
       "    </tr>\n",
       "    <tr>\n",
       "      <th>50%</th>\n",
       "      <td>3.597580e+04</td>\n",
       "      <td>0.066184</td>\n",
       "      <td>3.598297e+04</td>\n",
       "      <td>0.049658</td>\n",
       "      <td>3.701014e+04</td>\n",
       "      <td>0.014188</td>\n",
       "    </tr>\n",
       "    <tr>\n",
       "      <th>75%</th>\n",
       "      <td>6.936041e+04</td>\n",
       "      <td>0.187080</td>\n",
       "      <td>6.936177e+04</td>\n",
       "      <td>0.141516</td>\n",
       "      <td>7.291358e+04</td>\n",
       "      <td>0.037006</td>\n",
       "    </tr>\n",
       "    <tr>\n",
       "      <th>max</th>\n",
       "      <td>3.471636e+06</td>\n",
       "      <td>0.988738</td>\n",
       "      <td>3.471636e+06</td>\n",
       "      <td>0.976971</td>\n",
       "      <td>3.476174e+06</td>\n",
       "      <td>0.739085</td>\n",
       "    </tr>\n",
       "  </tbody>\n",
       "</table>\n",
       "</div>"
      ],
      "text/plain": [
       "       Correct Residual  Correct Cosine Similarity   OW Residual    OW Cosine  \\\n",
       "count      3.215000e+03                3215.000000  3.215000e+03  3215.000000   \n",
       "mean       7.594160e+04                   0.144557  7.589604e+04     0.113244   \n",
       "std        1.612852e+05                   0.185349  1.611996e+05     0.158650   \n",
       "min        8.840461e+03                   0.000040  8.869601e+03     0.000000   \n",
       "25%        2.175703e+04                   0.023154  2.174334e+04     0.016098   \n",
       "50%        3.597580e+04                   0.066184  3.598297e+04     0.049658   \n",
       "75%        6.936041e+04                   0.187080  6.936177e+04     0.141516   \n",
       "max        3.471636e+06                   0.988738  3.471636e+06     0.976971   \n",
       "\n",
       "        TW Residaul    TW Cosine  \n",
       "count  3.215000e+03  3215.000000  \n",
       "mean   7.945079e+04     0.030250  \n",
       "std    1.649510e+05     0.050118  \n",
       "min    8.869975e+03     0.000000  \n",
       "25%    2.227104e+04     0.004023  \n",
       "50%    3.701014e+04     0.014188  \n",
       "75%    7.291358e+04     0.037006  \n",
       "max    3.476174e+06     0.739085  "
      ]
     },
     "execution_count": 156,
     "metadata": {},
     "output_type": "execute_result"
    }
   ],
   "source": [
    "master.describe()"
   ]
  },
  {
   "cell_type": "code",
   "execution_count": 160,
   "metadata": {},
   "outputs": [
    {
     "data": {
      "text/plain": [
       "Ttest_indResult(statistic=7.3186875864260665, pvalue=2.8093390550471873e-13)"
      ]
     },
     "execution_count": 160,
     "metadata": {},
     "output_type": "execute_result"
    }
   ],
   "source": [
    "stats.ttest_ind(correct_cosine_similarities, one_wrong_cosine_similarities)"
   ]
  },
  {
   "cell_type": "code",
   "execution_count": 161,
   "metadata": {},
   "outputs": [
    {
     "data": {
      "text/plain": [
       "Ttest_indResult(statistic=33.752251375917304, pvalue=4.555964508358174e-230)"
      ]
     },
     "execution_count": 161,
     "metadata": {},
     "output_type": "execute_result"
    }
   ],
   "source": [
    "stats.ttest_ind(correct_cosine_similarities, two_wrong_cosine_similarities)"
   ]
  },
  {
   "cell_type": "code",
   "execution_count": 162,
   "metadata": {},
   "outputs": [
    {
     "data": {
      "text/plain": [
       "Ttest_indResult(statistic=28.2773599453198, pvalue=6.621882371574008e-166)"
      ]
     },
     "execution_count": 162,
     "metadata": {},
     "output_type": "execute_result"
    }
   ],
   "source": [
    "stats.ttest_ind(one_wrong_cosine_similarities, two_wrong_cosine_similarities)"
   ]
  },
  {
   "cell_type": "code",
   "execution_count": 131,
   "metadata": {},
   "outputs": [
    {
     "data": {
      "text/plain": [
       "0.0012196019100615652"
      ]
     },
     "execution_count": 131,
     "metadata": {},
     "output_type": "execute_result"
    }
   ],
   "source": [
    "np.average(two_wrong_cosine_similarities)"
   ]
  },
  {
   "cell_type": "code",
   "execution_count": 127,
   "metadata": {},
   "outputs": [
    {
     "data": {
      "text/plain": [
       "0.0847278071968053"
      ]
     },
     "execution_count": 127,
     "metadata": {},
     "output_type": "execute_result"
    }
   ],
   "source": [
    "np.average(one_wrong_cosine_similarities)"
   ]
  },
  {
   "cell_type": "code",
   "execution_count": 126,
   "metadata": {},
   "outputs": [
    {
     "data": {
      "text/plain": [
       "0.12193742119995898"
      ]
     },
     "execution_count": 126,
     "metadata": {},
     "output_type": "execute_result"
    }
   ],
   "source": [
    "np.average(correct_cosine_similarities)"
   ]
  },
  {
   "cell_type": "code",
   "execution_count": 51,
   "metadata": {},
   "outputs": [],
   "source": [
    "scan = file1_scans[chimeric_index]\n",
    "f1_intense = np.zeros(len(unique_m_zs))\n",
    "scan.m_z = bin_m_z(scan)\n",
    "scan.m_z, scan.intensity = combine_duplicates(scan)\n",
    "file1_indexes = np.where(np.isin(np.array(unique_m_zs), np.array(scan.m_z)))[0]\n",
    "f1_intense[file1_indexes] = scan.intensity\n",
    "\n",
    "s1scan = series1_scans[0]\n",
    "series1_intense = np.zeros(len(unique_m_zs))\n",
    "s1scan.m_z = bin_m_z(s1scan)\n",
    "s1scan.m_z, scan.intensity = combine_duplicates(s1scan)\n",
    "s1_indexes = np.where(np.isin(np.array(unique_m_zs), np.array(s1scan.m_z)))[0]\n",
    "series1_intense[s1_indexes] = s1scan.intensity"
   ]
  },
  {
   "cell_type": "code",
   "execution_count": 63,
   "metadata": {},
   "outputs": [
    {
     "data": {
      "text/plain": [
       "<BarContainer object of 7863 artists>"
      ]
     },
     "execution_count": 63,
     "metadata": {},
     "output_type": "execute_result"
    },
    {
     "data": {
      "image/png": "[encoded data removed]",
      "text/plain": [
       "<Figure size 640x480 with 1 Axes>"
      ]
     },
     "metadata": {},
     "output_type": "display_data"
    }
   ],
   "source": [
    "plt.bar(unique_m_zs, series1_intense, width=5)"
   ]
  },
  {
   "cell_type": "code",
   "execution_count": 54,
   "metadata": {},
   "outputs": [
    {
     "data": {
      "text/plain": [
       "<BarContainer object of 7863 artists>"
      ]
     },
     "execution_count": 54,
     "metadata": {},
     "output_type": "execute_result"
    },
    {
     "data": {
      "image/png": "[encoded data removed]",
      "text/plain": [
       "<Figure size 640x480 with 1 Axes>"
      ]
     },
     "metadata": {},
     "output_type": "display_data"
    }
   ],
   "source": [
    "plt.bar(unique_m_zs, f1_intense, width=5)"
   ]
  },
  {
   "cell_type": "code",
   "execution_count": 60,
   "metadata": {},
   "outputs": [
    {
     "data": {
      "text/plain": [
       "array([   7,  278,  372,  528,  720,  730,  765,  786,  828, 1140, 1174,\n",
       "       1185, 1203, 1399, 1421, 1465, 1581, 1730, 1979, 2047, 2172, 2367,\n",
       "       2383, 2869, 2959, 3073, 3171, 3589, 3733, 4185, 4194, 4272, 4288,\n",
       "       4290, 4292, 4388, 4392, 4638, 4640, 4648, 4665, 4856, 5096, 5255,\n",
       "       5434, 5467, 5468, 5530, 5812, 5847, 5850, 6142, 6426, 6455, 6507,\n",
       "       6749, 6774, 6783, 6788, 6795, 6984, 7520, 7716, 7739], dtype=int64)"
      ]
     },
     "execution_count": 60,
     "metadata": {},
     "output_type": "execute_result"
    }
   ],
   "source": [
    "file1_indexes"
   ]
  },
  {
   "cell_type": "code",
   "execution_count": 62,
   "metadata": {},
   "outputs": [
    {
     "data": {
      "image/png": "[encoded data removed]",
      "text/plain": [
       "<Figure size 640x480 with 1 Axes>"
      ]
     },
     "metadata": {},
     "output_type": "display_data"
    }
   ],
   "source": [
    "barlist = plt.bar(unique_m_zs, f1_intense + series1_intense, width=5)\n",
    "for i in file1_indexes :\n",
    "    barlist[i].set_color('r')\n",
    "for j in s1_indexes :\n",
    "    barlist[j].set_color('g')\n",
    "plt.show()"
   ]
  },
  {
   "cell_type": "code",
   "execution_count": 39,
   "metadata": {},
   "outputs": [
    {
     "data": {
      "text/plain": [
       "[array([0.        , 0.25581225])]"
      ]
     },
     "execution_count": 39,
     "metadata": {},
     "output_type": "execute_result"
    }
   ],
   "source": [
    "correct_coefficients"
   ]
  },
  {
   "cell_type": "code",
   "execution_count": 40,
   "metadata": {},
   "outputs": [
    {
     "data": {
      "text/plain": [
       "[14499.31134560533]"
      ]
     },
     "execution_count": 40,
     "metadata": {},
     "output_type": "execute_result"
    }
   ],
   "source": [
    "correct_scores"
   ]
  },
  {
   "cell_type": "code",
   "execution_count": 32,
   "metadata": {},
   "outputs": [
    {
     "data": {
      "text/plain": [
       "[14499.31134560533,\n",
       " 14793.868855931443,\n",
       " 12786.170364567673,\n",
       " 14773.629545805106,\n",
       " 13699.60283753711,\n",
       " 14354.365173925009,\n",
       " 13756.91426178255,\n",
       " 30454.977771303384,\n",
       " 30838.777040248857,\n",
       " 30868.320768946436]"
      ]
     },
     "execution_count": 32,
     "metadata": {},
     "output_type": "execute_result"
    }
   ],
   "source": [
    "correct_scores"
   ]
  },
  {
   "cell_type": "code",
   "execution_count": 31,
   "metadata": {},
   "outputs": [
    {
     "data": {
      "text/plain": [
       "[array([0.        , 0.25581225]),\n",
       " array([0.        , 0.01973826]),\n",
       " array([0.        , 0.58130567]),\n",
       " array([0.       , 0.0687121]),\n",
       " array([0.        , 0.40297468]),\n",
       " array([0.        , 0.29861285]),\n",
       " array([0.        , 0.38887571]),\n",
       " array([0.        , 0.13108385]),\n",
       " array([0.        , 0.31922022]),\n",
       " array([0.        , 0.00103035])]"
      ]
     },
     "execution_count": 31,
     "metadata": {},
     "output_type": "execute_result"
    }
   ],
   "source": [
    "correct_coefficients"
   ]
  },
  {
   "cell_type": "code",
   "execution_count": 81,
   "metadata": {},
   "outputs": [],
   "source": [
    "correct_coefficients = [arr[i] for i in range(2) for arr in correct_coefficients]"
   ]
  },
  {
   "cell_type": "code",
   "execution_count": 76,
   "metadata": {},
   "outputs": [
    {
     "data": {
      "text/plain": [
       "Ttest_indResult(statistic=-0.6742973679743453, pvalue=0.5097481673863057)"
      ]
     },
     "execution_count": 76,
     "metadata": {},
     "output_type": "execute_result"
    }
   ],
   "source": [
    "stats.ttest_ind(correct_scores, bad_scores)"
   ]
  },
  {
   "cell_type": "code",
   "execution_count": 83,
   "metadata": {},
   "outputs": [
    {
     "data": {
      "text/plain": [
       "Ttest_indResult(statistic=1.5192798337240683, pvalue=0.13793748938654712)"
      ]
     },
     "execution_count": 83,
     "metadata": {},
     "output_type": "execute_result"
    }
   ],
   "source": [
    "stats.ttest_ind(correct_coefficients, bad_coefficients)"
   ]
  },
  {
   "cell_type": "code",
   "execution_count": 82,
   "metadata": {},
   "outputs": [],
   "source": [
    "bad_coefficients = [arr[i] for i in range(2) for arr in bad_coefficients]"
   ]
  },
  {
   "cell_type": "code",
   "execution_count": null,
   "metadata": {},
   "outputs": [],
   "source": []
  },
  {
   "cell_type": "code",
   "execution_count": 70,
   "metadata": {},
   "outputs": [
    {
     "name": "stdout",
     "output_type": "stream",
     "text": [
      "0.0014302059496567505\n"
     ]
    }
   ],
   "source": [
    "series1_scan = series1_scans[0]\n",
    "series1_scan_intensity = np.zeros(len(unique_m_zs))\n",
    "series1_scan.m_z = [float(i) for i in series1_scan.m_z]\n",
    "series1_scan.intensity = [float(i) for i in series1_scan.intensity]\n",
    "indexes = np.where(np.isin(np.array(unique_m_zs), np.array(series1_scan.m_z)))[0]\n",
    "series1_scan_intensity[indexes] = series1_scan.intensity\n",
    "\n",
    "correct_scores = []\n",
    "correct_coefficients = []\n",
    "one_wrong_scores = []\n",
    "one_wrong_coefficients = []\n",
    "bad_scores = []\n",
    "bad_coefficients = []\n",
    "\n",
    "i = 0\n",
    "for chimeric_index, scan in enumerate(file1_scans) :\n",
    "    chimeric_scan = chimeric_scans[chimeric_index]\n",
    "    chimeric_scan.m_z, chimeric_scan.intensity = combine_duplicates(chimeric_scan)\n",
    "    chimeric_intensity = np.zeros(len(unique_m_zs))\n",
    "    indexes = np.where(np.isin(np.array(unique_m_zs), np.array(chimeric_scan.m_z)))[0] # potential problem, what if chimeric spectra \n",
    "                                                                              # has m_z values that didn't occur in the original spectra? \n",
    "    chimeric_intensity[indexes] = chimeric_scan.intensity\n",
    "\n",
    "    file1_intensity = np.zeros(len(unique_m_zs))\n",
    "    scan.m_z = [float(i) for i in scan.m_z]\n",
    "    scan.intensity = [float(i) for i in scan.intensity]\n",
    "    indexes = np.where(np.isin(np.array(unique_m_zs), np.array(scan.m_z)))[0]\n",
    "    file1_intensity[indexes] = scan.intensity\n",
    "\n",
    "    A = pd.DataFrame({series1_alt_scan.title: series1_scan_intensity,\n",
    "                      scan.title: file1_intensity}, index=unique_m_zs)\n",
    "    b = np.array(chimeric_intensity)\n",
    "    model = LinearRegression(fit_intercept=False, positive=True)\n",
    "    model.fit(A, b)\n",
    "    correct_scores.append(np.linalg.norm(model.predict(A)-b))\n",
    "    correct_coefficients.append(model.coef_)\n",
    "\n",
    "    if i >= 1 :\n",
    "        A = pd.DataFrame({'one_ago': one_ago, \n",
    "                          'current':series1_scan_intensity}, index=unique_m_zs)\n",
    "        b = np.array(chimeric_intensity)\n",
    "        model = LinearRegression(fit_intercept=False, positive=True)\n",
    "        model.fit(A, b)\n",
    "        one_wrong_scores.append(np.linalg.norm(model.predict(A)-b))\n",
    "        one_wrong_coefficients.append(model.coef_)\n",
    "\n",
    "    if i >= 2 :\n",
    "        A = pd.DataFrame({'one_ago': one_ago,\n",
    "                          'two_ago': two_ago}, index=unique_m_zs)\n",
    "        b = np.array(chimeric_intensity)\n",
    "        model = LinearRegression(fit_intercept=False, positive=True)\n",
    "        model.fit(A, b)\n",
    "        bad_scores.append(np.linalg.norm(model.predict(A)-b))\n",
    "        bad_coefficients.append(model.coef_)\n",
    "\n",
    "\n",
    "    if i >= 1 :\n",
    "        two_ago = one_ago\n",
    "    one_ago = file1_intensity\n",
    "\n",
    "    i += 1\n",
    "\n",
    "    if i % 10 == 0 : \n",
    "        print(i/len(file1_alt_scans_info.loc[pd.notnull(file1_alt_scans_info['Scan']), 'Scan']))\n",
    "        break"
   ]
  },
  {
   "cell_type": "code",
   "execution_count": 63,
   "metadata": {},
   "outputs": [
    {
     "data": {
      "text/plain": [
       "[array([1., 1.]),\n",
       " array([1., 1.]),\n",
       " array([1., 1.]),\n",
       " array([1., 1.]),\n",
       " array([1., 1.]),\n",
       " array([1., 1.]),\n",
       " array([1., 1.]),\n",
       " array([1., 1.]),\n",
       " array([1., 1.]),\n",
       " array([1., 1.])]"
      ]
     },
     "execution_count": 63,
     "metadata": {},
     "output_type": "execute_result"
    }
   ],
   "source": [
    "correct_coefficients"
   ]
  },
  {
   "cell_type": "code",
   "execution_count": 71,
   "metadata": {},
   "outputs": [
    {
     "data": {
      "text/plain": [
       "[array([0., 1.]),\n",
       " array([0., 1.]),\n",
       " array([0., 1.]),\n",
       " array([0., 1.]),\n",
       " array([0., 1.]),\n",
       " array([0., 1.]),\n",
       " array([0., 1.]),\n",
       " array([0., 1.]),\n",
       " array([0., 1.])]"
      ]
     },
     "execution_count": 71,
     "metadata": {},
     "output_type": "execute_result"
    }
   ],
   "source": [
    "one_wrong_coefficients"
   ]
  },
  {
   "cell_type": "code",
   "execution_count": 65,
   "metadata": {},
   "outputs": [
    {
     "data": {
      "text/plain": [
       "[array([0., 0.]),\n",
       " array([0., 0.]),\n",
       " array([0., 0.]),\n",
       " array([0., 0.]),\n",
       " array([0., 0.]),\n",
       " array([0., 0.]),\n",
       " array([0., 0.]),\n",
       " array([0., 0.])]"
      ]
     },
     "execution_count": 65,
     "metadata": {},
     "output_type": "execute_result"
    }
   ],
   "source": [
    "bad_coefficients"
   ]
  },
  {
   "cell_type": "code",
   "execution_count": 67,
   "metadata": {},
   "outputs": [
    {
     "data": {
      "text/plain": [
       "[6.561468513030565e-10,\n",
       " 1.6900763452347867e-12,\n",
       " 1.6900763452347867e-12,\n",
       " 4.0065538511739974e-12,\n",
       " 3.15672954841712e-12,\n",
       " 2.893994419845934e-12,\n",
       " 1.6900763452347867e-12,\n",
       " 1.6900763452347867e-12,\n",
       " 2.3656698484370296e-12,\n",
       " 1.6572172098571638e-11]"
      ]
     },
     "execution_count": 67,
     "metadata": {},
     "output_type": "execute_result"
    }
   ],
   "source": [
    "correct_scores"
   ]
  },
  {
   "cell_type": "code",
   "execution_count": 72,
   "metadata": {},
   "outputs": [
    {
     "data": {
      "text/plain": [
       "[3754.03463933073,\n",
       " 9539.947759648798,\n",
       " 8660.006969899163,\n",
       " 5829.529883677667,\n",
       " 12151.436579287227,\n",
       " 261421.56382426506,\n",
       " 7379.988665500161,\n",
       " 8495.963148206692,\n",
       " 35198.86458342183]"
      ]
     },
     "execution_count": 72,
     "metadata": {},
     "output_type": "execute_result"
    }
   ],
   "source": [
    "one_wrong_scores"
   ]
  },
  {
   "cell_type": "code",
   "execution_count": 73,
   "metadata": {},
   "outputs": [
    {
     "data": {
      "text/plain": [
       "[12247.490341327111,\n",
       " 11575.238102206573,\n",
       " 9642.294077073344,\n",
       " 14375.250514148001,\n",
       " 261534.36571266953,\n",
       " 10651.509240806374,\n",
       " 11453.026072604518,\n",
       " 36027.0798756455]"
      ]
     },
     "execution_count": 73,
     "metadata": {},
     "output_type": "execute_result"
    }
   ],
   "source": [
    "bad_scores"
   ]
  },
  {
   "cell_type": "code",
   "execution_count": 43,
   "metadata": {},
   "outputs": [
    {
     "data": {
      "text/plain": [
       "<Axes: ylabel='Count'>"
      ]
     },
     "execution_count": 43,
     "metadata": {},
     "output_type": "execute_result"
    },
    {
     "data": {
      "image/png": "[encoded data removed]",
      "text/plain": [
       "<Figure size 640x480 with 1 Axes>"
      ]
     },
     "metadata": {},
     "output_type": "display_data"
    }
   ],
   "source": [
    "sns.histplot(correct_scores)"
   ]
  },
  {
   "cell_type": "code",
   "execution_count": 44,
   "metadata": {},
   "outputs": [
    {
     "data": {
      "text/plain": [
       "<Axes: ylabel='Count'>"
      ]
     },
     "execution_count": 44,
     "metadata": {},
     "output_type": "execute_result"
    },
    {
     "data": {
      "image/png": "[encoded data removed]",
      "text/plain": [
       "<Figure size 640x480 with 1 Axes>"
      ]
     },
     "metadata": {},
     "output_type": "display_data"
    }
   ],
   "source": [
    "sns.histplot(one_wrong_scores)"
   ]
  },
  {
   "cell_type": "code",
   "execution_count": 52,
   "metadata": {},
   "outputs": [
    {
     "data": {
      "text/plain": [
       "7404.448454312593"
      ]
     },
     "execution_count": 52,
     "metadata": {},
     "output_type": "execute_result"
    }
   ],
   "source": [
    "np.amin(bad_scores)"
   ]
  },
  {
   "cell_type": "code",
   "execution_count": 49,
   "metadata": {},
   "outputs": [
    {
     "data": {
      "text/plain": [
       "<Axes: ylabel='Count'>"
      ]
     },
     "execution_count": 49,
     "metadata": {},
     "output_type": "execute_result"
    },
    {
     "data": {
      "image/png": "[encoded data removed]",
      "text/plain": [
       "<Figure size 640x480 with 1 Axes>"
      ]
     },
     "metadata": {},
     "output_type": "display_data"
    }
   ],
   "source": [
    "sns.histplot(bad_scores)"
   ]
  },
  {
   "cell_type": "code",
   "execution_count": 42,
   "metadata": {},
   "outputs": [
    {
     "data": {
      "text/plain": [
       "<Axes: ylabel='Count'>"
      ]
     },
     "execution_count": 42,
     "metadata": {},
     "output_type": "execute_result"
    },
    {
     "data": {
      "image/png": "[encoded data removed]",
      "text/plain": [
       "<Figure size 640x480 with 1 Axes>"
      ]
     },
     "metadata": {},
     "output_type": "display_data"
    }
   ],
   "source": [
    "target = pd.DataFrame({'score': correct_scores, 'target_decoy': 'target'})\n",
    "one_right = pd.DataFrame({'score': one_wrong_scores, 'target_decoy': 'one wrong'})\n",
    "decoy = pd.DataFrame({'score':bad_scores, 'target_decoy': 'decoy'})\n",
    "scores = pd.concat([target, one_right, decoy], ignore_index=True, axis=0)\n",
    "\n",
    "\n",
    "\n"
   ]
  },
  {
   "cell_type": "code",
   "execution_count": null,
   "metadata": {},
   "outputs": [],
   "source": [
    "b = chimeric_spectra[0]\n",
    "x, residual = nnls(A, b)\n",
    "print(x)\n",
    "print(residual)\n",
    "\n",
    "model = LinearRegression(fit_intercept=False, positive=True)\n",
    "model.fit(A, b)\n",
    "print('NNLS coef', model.coef_)\n",
    "print('NNLS residual', np.linalg.norm(model.predict(A)-b))\n",
    "\n",
    "\n",
    "x = np.linalg.pinv(A) @ b\n",
    "residual = np.linalg.norm((A@x) - b)\n",
    "print(x)\n",
    "print(residual)"
   ]
  }
 ],
 "metadata": {
  "kernelspec": {
   "display_name": "Python 3",
   "language": "python",
   "name": "python3"
  },
  "language_info": {
   "codemirror_mode": {
    "name": "ipython",
    "version": 3
   },
   "file_extension": ".py",
   "mimetype": "text/x-python",
   "name": "python",
   "nbconvert_exporter": "python",
   "pygments_lexer": "ipython3",
   "version": "3.11.4"
  },
  "orig_nbformat": 4
 },
 "nbformat": 4,
 "nbformat_minor": 2
}
