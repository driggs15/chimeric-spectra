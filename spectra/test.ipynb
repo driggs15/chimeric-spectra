{
 "cells": [
  {
   "cell_type": "code",
   "execution_count": 1,
   "metadata": {},
   "outputs": [],
   "source": [
    "from mgf_file_utils import parse_mgf\n",
    "import numpy as np\n",
    "import pandas as pd\n",
    "from scipy.optimize import nnls\n",
    "from sklearn.linear_model import LinearRegression\n",
    "import re"
   ]
  },
  {
   "cell_type": "code",
   "execution_count": 2,
   "metadata": {},
   "outputs": [],
   "source": [
    "file1_scans = parse_mgf('Original Spectra Files\\Input Files\\Ex_AuLC1_15m_2D19_3_20um30cm_SPE50_15118120_OTOT_8645_02ng_2mz_1.mgf')\n",
    "file2_scans = parse_mgf('Original Spectra Files\\Input Files\\Ex_AuLC1_15m_2D19_3_20um30cm_SPE50_15118120_OTOT_8645_02ng_2mz_2.mgf')"
   ]
  },
  {
   "cell_type": "code",
   "execution_count": 3,
   "metadata": {},
   "outputs": [],
   "source": [
    "series1_titles = ['Ex_AuLC1_15m_2D19_3_20um30cm_SPE50_15118120_OTOT_8645_02ng_2mz_2.1875.1875.2']"
   ]
  },
  {
   "cell_type": "code",
   "execution_count": 4,
   "metadata": {},
   "outputs": [],
   "source": [
    "series2_titles = ['Ex_AuLC1_15m_2D19_3_20um30cm_SPE50_15118120_OTOT_8645_02ng_2mz_2.10553.10553.2',\n",
    "                  'Ex_AuLC1_15m_2D19_3_20um30cm_SPE50_15118120_OTOT_8645_02ng_2mz_2.5799.5799.2']"
   ]
  },
  {
   "cell_type": "code",
   "execution_count": 5,
   "metadata": {},
   "outputs": [],
   "source": [
    "series3_titles = ['Ex_AuLC1_15m_2D19_3_20um30cm_SPE50_15118120_OTOT_8645_02ng_2mz_2.6157.6157.2',\n",
    "                  'Ex_AuLC1_15m_2D19_3_20um30cm_SPE50_15118120_OTOT_8645_02ng_2mz_2.4424.4424.2',\n",
    "                  'Ex_AuLC1_15m_2D19_3_20um30cm_SPE50_15118120_OTOT_8645_02ng_2mz_2.12144.12144.2']"
   ]
  },
  {
   "cell_type": "code",
   "execution_count": 6,
   "metadata": {},
   "outputs": [],
   "source": [
    "series4_titles = ['Ex_AuLC1_15m_2D19_3_20um30cm_SPE50_15118120_OTOT_8645_02ng_2mz_2.8276.8276.2',\n",
    "                  'Ex_AuLC1_15m_2D19_3_20um30cm_SPE50_15118120_OTOT_8645_02ng_2mz_2.4570.4570.2',\n",
    "                  'Ex_AuLC1_15m_2D19_3_20um30cm_SPE50_15118120_OTOT_8645_02ng_2mz_2.3392.3392.3',\n",
    "                  'Ex_AuLC1_15m_2D19_3_20um30cm_SPE50_15118120_OTOT_8645_02ng_2mz_2.13552.13552.3']"
   ]
  },
  {
   "cell_type": "code",
   "execution_count": 7,
   "metadata": {},
   "outputs": [],
   "source": [
    "series5_titles = ['Ex_AuLC1_15m_2D19_3_20um30cm_SPE50_15118120_OTOT_8645_02ng_2mz_2.11221.11221.2',\n",
    "                  'Ex_AuLC1_15m_2D19_3_20um30cm_SPE50_15118120_OTOT_8645_02ng_2mz_2.12666.12666.2',\n",
    "                  'Ex_AuLC1_15m_2D19_3_20um30cm_SPE50_15118120_OTOT_8645_02ng_2mz_2.10079.10079.3',\n",
    "                  'Ex_AuLC1_15m_2D19_3_20um30cm_SPE50_15118120_OTOT_8645_02ng_2mz_2.2190.2190.2',\n",
    "                  'Ex_AuLC1_15m_2D19_3_20um30cm_SPE50_15118120_OTOT_8645_02ng_2mz_2.4203.4203.2']"
   ]
  },
  {
   "cell_type": "code",
   "execution_count": 8,
   "metadata": {},
   "outputs": [],
   "source": [
    "series6_titles = ['Ex_AuLC1_15m_2D19_3_20um30cm_SPE50_15118120_OTOT_8645_02ng_2mz_2.6635.6635.2',\n",
    "                  'Ex_AuLC1_15m_2D19_3_20um30cm_SPE50_15118120_OTOT_8645_02ng_2mz_2.4595.4595.2',\n",
    "                  'Ex_AuLC1_15m_2D19_3_20um30cm_SPE50_15118120_OTOT_8645_02ng_2mz_2.8003.8003.3',\n",
    "                  'Ex_AuLC1_15m_2D19_3_20um30cm_SPE50_15118120_OTOT_8645_02ng_2mz_2.5724.5724.2',\n",
    "                  'Ex_AuLC1_15m_2D19_3_20um30cm_SPE50_15118120_OTOT_8645_02ng_2mz_2.12025.12025.2',\n",
    "                  'Ex_AuLC1_15m_2D19_3_20um30cm_SPE50_15118120_OTOT_8645_02ng_2mz_2.3311.3311.2']"
   ]
  },
  {
   "cell_type": "code",
   "execution_count": 9,
   "metadata": {},
   "outputs": [],
   "source": [
    "series7_titles = ['Ex_AuLC1_15m_2D19_3_20um30cm_SPE50_15118120_OTOT_8645_02ng_2mz_2.3415.3415.2',\n",
    "                  'Ex_AuLC1_15m_2D19_3_20um30cm_SPE50_15118120_OTOT_8645_02ng_2mz_2.9460.9460.2',\n",
    "                  'Ex_AuLC1_15m_2D19_3_20um30cm_SPE50_15118120_OTOT_8645_02ng_2mz_2.8227.8227.2',\n",
    "                  'Ex_AuLC1_15m_2D19_3_20um30cm_SPE50_15118120_OTOT_8645_02ng_2mz_2.12252.12252.2',\n",
    "                  'Ex_AuLC1_15m_2D19_3_20um30cm_SPE50_15118120_OTOT_8645_02ng_2mz_2.13523.13523.2',\n",
    "                  'Ex_AuLC1_15m_2D19_3_20um30cm_SPE50_15118120_OTOT_8645_02ng_2mz_2.8329.8329.2',\n",
    "                  'Ex_AuLC1_15m_2D19_3_20um30cm_SPE50_15118120_OTOT_8645_02ng_2mz_2.10413.10413.2']"
   ]
  },
  {
   "cell_type": "code",
   "execution_count": 10,
   "metadata": {},
   "outputs": [],
   "source": [
    "series1_scans = [scan for scan in file2_scans if scan.title in series1_titles]\n",
    "series2_scans = [scan for scan in file2_scans if scan.title in series2_titles]\n",
    "series3_scans = [scan for scan in file2_scans if scan.title in series3_titles]\n",
    "series4_scans = [scan for scan in file2_scans if scan.title in series4_titles]\n",
    "series5_scans = [scan for scan in file2_scans if scan.title in series5_titles]\n",
    "series6_scans = [scan for scan in file2_scans if scan.title in series6_titles]\n",
    "series7_scans = [scan for scan in file2_scans if scan.title in series7_titles]"
   ]
  },
  {
   "cell_type": "code",
   "execution_count": 6,
   "metadata": {},
   "outputs": [],
   "source": [
    "scans = file1_scans + series5_scans"
   ]
  },
  {
   "cell_type": "code",
   "execution_count": 6,
   "metadata": {},
   "outputs": [],
   "source": [
    "unique_m_zs = list(set(float(m_z) for scan in scans for m_z in scan.m_z))\n",
    "unique_m_zs.sort()"
   ]
  },
  {
   "cell_type": "code",
   "execution_count": 8,
   "metadata": {},
   "outputs": [],
   "source": [
    "A = pd.DataFrame(index=unique_m_zs)"
   ]
  },
  {
   "cell_type": "code",
   "execution_count": 11,
   "metadata": {},
   "outputs": [],
   "source": [
    "for scan in scans :\n",
    "    intensity = np.zeros(len(unique_m_zs))\n",
    "    scan.m_z = [float(i) for i in scan.m_z]\n",
    "    scan.intensity = [float(i) for i in scan.intensity]\n",
    "    indexes = np.where(np.isin(np.array(unique_m_zs), np.array(scan.m_z)))[0]\n",
    "    intensity[indexes] = scan.intensity\n",
    "    df = pd.DataFrame({scan.title: intensity}, index=unique_m_zs)\n",
    "    A = pd.concat((A, df), axis=1)\n",
    "    # master[scan.title] = intensity"
   ]
  },
  {
   "cell_type": "code",
   "execution_count": 12,
   "metadata": {},
   "outputs": [],
   "source": [
    "chimeric_scans = parse_mgf('Chimeric Spectra Files\\Input Files\\Ex_AuLC1_15m_2D19_3_20um30cm_SPE50_15118120_OTOT_8645_02ng_2mz_1_Trial_1_5inserts.mgf')"
   ]
  },
  {
   "cell_type": "code",
   "execution_count": 15,
   "metadata": {},
   "outputs": [],
   "source": [
    "def combine_duplicates(scan):\n",
    "    m_z_new = []\n",
    "    intensities_new = []\n",
    "\n",
    "    seen_m_z = set()  # Keep track of seen m_z values\n",
    "\n",
    "    for m_z, intensity in zip(scan.m_z, scan.intensity):\n",
    "        if m_z not in seen_m_z:\n",
    "            seen_m_z.add(m_z)\n",
    "            m_z_new.append(float(m_z))\n",
    "            intensities_new.append(float(intensity))\n",
    "        else:\n",
    "            # If m_z is a duplicate, find its index and update the intensity\n",
    "            index = m_z_new.index(float(m_z))\n",
    "            intensities_new[index] += float(intensity)\n",
    "\n",
    "    return m_z_new, intensities_new"
   ]
  },
  {
   "cell_type": "code",
   "execution_count": 16,
   "metadata": {},
   "outputs": [],
   "source": [
    "chimeric_spectra = []\n",
    "for scan in chimeric_scans[:1] :\n",
    "    scan.m_z, scan.intensity = combine_duplicates(scan)\n",
    "    intensity = np.zeros(len(unique_m_zs))\n",
    "    indexes = np.where(np.isin(np.array(unique_m_zs), np.array(scan.m_z)))[0] # potential problem, what if chimeric spectra \n",
    "                                                                              # has m_z values that didn't occur in the original spectra? \n",
    "    intensity[indexes] = scan.intensity\n",
    "    chimeric_spectra.append(np.array(intensity))"
   ]
  },
  {
   "cell_type": "code",
   "execution_count": 17,
   "metadata": {},
   "outputs": [
    {
     "name": "stdout",
     "output_type": "stream",
     "text": [
      "[1. 1. 1. 1. 1. 1.]\n",
      "7.60247439503378e-10\n"
     ]
    }
   ],
   "source": [
    "b = chimeric_spectra[0]\n",
    "x, residual = nnls(A, b)\n",
    "print(x)\n",
    "print(residual)"
   ]
  },
  {
   "cell_type": "code",
   "execution_count": 18,
   "metadata": {},
   "outputs": [
    {
     "name": "stdout",
     "output_type": "stream",
     "text": [
      "NNLS coef [1. 1. 1. 1. 1. 1.]\n",
      "NNLS residual 6.802314634529395e-10\n",
      "Unconstrained coef [1. 1. 1. 1. 1. 1.]\n",
      "NNLS residual 3.699294932315938e-10\n"
     ]
    }
   ],
   "source": [
    "positive_model = LinearRegression(fit_intercept=False, positive=True)\n",
    "unconstrained_model = LinearRegression(fit_intercept=False)\n",
    "positive_model.fit(A, b)\n",
    "unconstrained_model.fit(A, b)\n",
    "print('NNLS coef', positive_model.coef_)\n",
    "print('NNLS residual', np.linalg.norm(positive_model.predict(A)-b))\n",
    "print('Unconstrained coef', unconstrained_model.coef_)\n",
    "print('NNLS residual', np.linalg.norm(unconstrained_model.predict(A)-b))"
   ]
  },
  {
   "cell_type": "code",
   "execution_count": 19,
   "metadata": {},
   "outputs": [
    {
     "name": "stdout",
     "output_type": "stream",
     "text": [
      "[1. 1. 1. 1. 1. 1.]\n",
      "5.280726689490857e-10\n"
     ]
    }
   ],
   "source": [
    "x = np.linalg.pinv(A) @ b\n",
    "residual = np.linalg.norm((A@x) - b)\n",
    "print(x)\n",
    "print(residual)"
   ]
  },
  {
   "cell_type": "code",
   "execution_count": 11,
   "metadata": {},
   "outputs": [],
   "source": [
    "mgftest1 = pd.read_csv('Original Spectra Files\\Output Files\\psm_1_mgftest.tsv', sep='\\t')\n",
    "mgftest2 = pd.read_csv('Original Spectra Files\\Output Files\\psm_2_mgftest.tsv', sep='\\t')\n",
    "new_theoretical1 = pd.read_csv('Original Spectra Files\\Output Files\\psm_5430_1_new_theoretical.tsv', sep='\\t')\n",
    "new_theoretical2 = pd.read_csv('Original Spectra Files\\Output Files\\psm_5430_2_new_theoretical.tsv', sep='\\t')\n",
    "new_theoretical3 = pd.read_csv('Original Spectra Files\\Output Files\\psm_11860_1_new_theoretical.tsv', sep='\\t')\n",
    "new_theoretical4 = pd.read_csv('Original Spectra Files\\Output Files\\psm_11860_2_new_theoretical.tsv', sep='\\t')\n",
    "new_theoretical5 = pd.read_csv('Original Spectra Files\\Output Files\\psm_246120_1_new_theoretical.tsv', sep='\\t')\n",
    "new_theoretical6 = pd.read_csv('Original Spectra Files\\Output Files\\psm_246120_2_new_theoretical.tsv', sep='\\t')\n",
    "new_theoretical = pd.concat([new_theoretical1, new_theoretical2, new_theoretical3, \n",
    "                             new_theoretical4, new_theoretical5, new_theoretical6,], ignore_index=True, axis=0)\n",
    "fixed1_scans = parse_mgf('Original Spectra Files\\Input Files\\FIXED_Ex_AuLC1_15m_2D19_3_20um30cm_SPE50_15118120_OTOT_5430_02ng_2mz_1.mgf')\n",
    "fixed2_scans = parse_mgf('Original Spectra Files\\Input Files\\FIXED_Ex_AuLC1_15m_2D19_3_20um30cm_SPE50_15118120_OTOT_5430_02ng_2mz_2.mgf')\n",
    "fixed3_scans = parse_mgf('Original Spectra Files\\Input Files\\FIXED_Ex_AuLC1_15m_2D19_3_20um30cm_SPE50_15118120_OTOT_11860_02ng_2mz_1.mgf')\n",
    "fixed4_scans = parse_mgf('Original Spectra Files\\Input Files\\FIXED_Ex_AuLC1_15m_2D19_3_20um30cm_SPE50_15118120_OTOT_11860_02ng_2mz_2.mgf')\n",
    "fixed5_scans = parse_mgf('Original Spectra Files\\Input Files\\FIXED_Ex_AuLC1_15m_2D19_3_20um30cm_SPE50_15118120_OTOT_246120_02ng_2mz_1.mgf')\n",
    "fixed6_scans = parse_mgf('Original Spectra Files\\Input Files\\FIXED_Ex_AuLC1_15m_2D19_3_20um30cm_SPE50_15118120_OTOT_246120_02ng_2mz_2.mgf')\n",
    "\n",
    "mgftest2['Scan Number'] = mgftest2['Spectrum'].apply(lambda row : str(int(re.search('(?<=2mz_2\\.)\\d+(?=\\.)', row)[0])))"
   ]
  },
  {
   "cell_type": "code",
   "execution_count": 24,
   "metadata": {},
   "outputs": [
    {
     "name": "stdout",
     "output_type": "stream",
     "text": [
      "5799\n",
      "VIMVGSGGVGK\n"
     ]
    },
    {
     "ename": "IndexError",
     "evalue": "single positional indexer is out-of-bounds",
     "output_type": "error",
     "traceback": [
      "\u001b[1;31m---------------------------------------------------------------------------\u001b[0m",
      "\u001b[1;31mIndexError\u001b[0m                                Traceback (most recent call last)",
      "\u001b[1;32mc:\\Users\\natha\\OneDrive\\Documents\\chimeric-spectra\\spectra\\test.ipynb Cell 22\u001b[0m line \u001b[0;36m6\n\u001b[0;32m      <a href='vscode-notebook-cell:/c%3A/Users/natha/OneDrive/Documents/chimeric-spectra/spectra/test.ipynb#X31sZmlsZQ%3D%3D?line=3'>4</a>\u001b[0m peptide \u001b[39m=\u001b[39m mgftest2\u001b[39m.\u001b[39mloc[mgftest2[\u001b[39m'\u001b[39m\u001b[39mScan Number\u001b[39m\u001b[39m'\u001b[39m] \u001b[39m==\u001b[39m scan\u001b[39m.\u001b[39mscan_num, \u001b[39m'\u001b[39m\u001b[39mPeptide\u001b[39m\u001b[39m'\u001b[39m]\u001b[39m.\u001b[39miloc[\u001b[39m0\u001b[39m]\n\u001b[0;32m      <a href='vscode-notebook-cell:/c%3A/Users/natha/OneDrive/Documents/chimeric-spectra/spectra/test.ipynb#X31sZmlsZQ%3D%3D?line=4'>5</a>\u001b[0m \u001b[39mprint\u001b[39m(peptide)\n\u001b[1;32m----> <a href='vscode-notebook-cell:/c%3A/Users/natha/OneDrive/Documents/chimeric-spectra/spectra/test.ipynb#X31sZmlsZQ%3D%3D?line=5'>6</a>\u001b[0m scan_title \u001b[39m=\u001b[39m new_theoretical\u001b[39m.\u001b[39;49mloc[new_theoretical[\u001b[39m'\u001b[39;49m\u001b[39mPeptide\u001b[39;49m\u001b[39m'\u001b[39;49m] \u001b[39m==\u001b[39;49m peptide, \u001b[39m'\u001b[39;49m\u001b[39mSpectrum\u001b[39;49m\u001b[39m'\u001b[39;49m]\u001b[39m.\u001b[39;49miloc[\u001b[39m0\u001b[39;49m]\n\u001b[0;32m      <a href='vscode-notebook-cell:/c%3A/Users/natha/OneDrive/Documents/chimeric-spectra/spectra/test.ipynb#X31sZmlsZQ%3D%3D?line=6'>7</a>\u001b[0m scan_number \u001b[39m=\u001b[39m \u001b[39mstr\u001b[39m(\u001b[39mint\u001b[39m(re\u001b[39m.\u001b[39msearch(\u001b[39m'\u001b[39m\u001b[39m(?<=2mz_2\u001b[39m\u001b[39m\\\u001b[39m\u001b[39m.)\u001b[39m\u001b[39m\\\u001b[39m\u001b[39md+(?=\u001b[39m\u001b[39m\\\u001b[39m\u001b[39m.)\u001b[39m\u001b[39m'\u001b[39m, scan_title)[\u001b[39m0\u001b[39m]))\n\u001b[0;32m      <a href='vscode-notebook-cell:/c%3A/Users/natha/OneDrive/Documents/chimeric-spectra/spectra/test.ipynb#X31sZmlsZQ%3D%3D?line=7'>8</a>\u001b[0m alt_scan_numbers\u001b[39m.\u001b[39mappend(scan_number)\n",
      "File \u001b[1;32mc:\\Users\\natha\\AppData\\Local\\Programs\\Python\\Python311\\Lib\\site-packages\\pandas\\core\\indexing.py:1103\u001b[0m, in \u001b[0;36m_LocationIndexer.__getitem__\u001b[1;34m(self, key)\u001b[0m\n\u001b[0;32m   1100\u001b[0m axis \u001b[39m=\u001b[39m \u001b[39mself\u001b[39m\u001b[39m.\u001b[39maxis \u001b[39mor\u001b[39;00m \u001b[39m0\u001b[39m\n\u001b[0;32m   1102\u001b[0m maybe_callable \u001b[39m=\u001b[39m com\u001b[39m.\u001b[39mapply_if_callable(key, \u001b[39mself\u001b[39m\u001b[39m.\u001b[39mobj)\n\u001b[1;32m-> 1103\u001b[0m \u001b[39mreturn\u001b[39;00m \u001b[39mself\u001b[39;49m\u001b[39m.\u001b[39;49m_getitem_axis(maybe_callable, axis\u001b[39m=\u001b[39;49maxis)\n",
      "File \u001b[1;32mc:\\Users\\natha\\AppData\\Local\\Programs\\Python\\Python311\\Lib\\site-packages\\pandas\\core\\indexing.py:1656\u001b[0m, in \u001b[0;36m_iLocIndexer._getitem_axis\u001b[1;34m(self, key, axis)\u001b[0m\n\u001b[0;32m   1653\u001b[0m     \u001b[39mraise\u001b[39;00m \u001b[39mTypeError\u001b[39;00m(\u001b[39m\"\u001b[39m\u001b[39mCannot index by location index with a non-integer key\u001b[39m\u001b[39m\"\u001b[39m)\n\u001b[0;32m   1655\u001b[0m \u001b[39m# validate the location\u001b[39;00m\n\u001b[1;32m-> 1656\u001b[0m \u001b[39mself\u001b[39;49m\u001b[39m.\u001b[39;49m_validate_integer(key, axis)\n\u001b[0;32m   1658\u001b[0m \u001b[39mreturn\u001b[39;00m \u001b[39mself\u001b[39m\u001b[39m.\u001b[39mobj\u001b[39m.\u001b[39m_ixs(key, axis\u001b[39m=\u001b[39maxis)\n",
      "File \u001b[1;32mc:\\Users\\natha\\AppData\\Local\\Programs\\Python\\Python311\\Lib\\site-packages\\pandas\\core\\indexing.py:1589\u001b[0m, in \u001b[0;36m_iLocIndexer._validate_integer\u001b[1;34m(self, key, axis)\u001b[0m\n\u001b[0;32m   1587\u001b[0m len_axis \u001b[39m=\u001b[39m \u001b[39mlen\u001b[39m(\u001b[39mself\u001b[39m\u001b[39m.\u001b[39mobj\u001b[39m.\u001b[39m_get_axis(axis))\n\u001b[0;32m   1588\u001b[0m \u001b[39mif\u001b[39;00m key \u001b[39m>\u001b[39m\u001b[39m=\u001b[39m len_axis \u001b[39mor\u001b[39;00m key \u001b[39m<\u001b[39m \u001b[39m-\u001b[39mlen_axis:\n\u001b[1;32m-> 1589\u001b[0m     \u001b[39mraise\u001b[39;00m \u001b[39mIndexError\u001b[39;00m(\u001b[39m\"\u001b[39m\u001b[39msingle positional indexer is out-of-bounds\u001b[39m\u001b[39m\"\u001b[39m)\n",
      "\u001b[1;31mIndexError\u001b[0m: single positional indexer is out-of-bounds"
     ]
    }
   ],
   "source": [
    "alt_scan_numbers = []\n",
    "for scan in series2_scans :\n",
    "    print(scan.scan_num)\n",
    "    peptide = mgftest2.loc[mgftest2['Scan Number'] == scan.scan_num, 'Peptide'].iloc[0]\n",
    "    print(peptide)\n",
    "    scan_title = new_theoretical.loc[new_theoretical['Peptide'] == peptide, 'Spectrum'].iloc[0]\n",
    "    scan_number = str(int(re.search('(?<=2mz_2\\.)\\d+(?=\\.)', scan_title)[0]))\n",
    "    alt_scan_numbers.append(scan_number)\n",
    "\n",
    "# for scan in fixed2_scans :\n",
    "#     if scan.scan_num in alt_scan_numbers :\n",
    "#         alt_scan_numbers[alt_scan_numbers.index(scan.scan_num)] = scan"
   ]
  },
  {
   "cell_type": "code",
   "execution_count": null,
   "metadata": {},
   "outputs": [],
   "source": []
  },
  {
   "cell_type": "code",
   "execution_count": null,
   "metadata": {},
   "outputs": [],
   "source": [
    "for scan in scans :\n",
    "    file_number = re.search('(?<=2mz_)\\d(?=\\.)', scan.title)[0]\n",
    "    if file_number == '1' :\n",
    "        if not mgftest1.loc[mgftest1['Spectrum'] == scan.title, 'Peptide'].empty :\n",
    "            peptide = mgftest1.loc[mgftest1['Spectrum'] == scan.title, 'Peptide'].iloc[0]\n",
    "            scan_title = new_theoretical1.loc[new_theoretical1['Peptide'] == peptide, 'Spectrum'].iloc[0]\n",
    "            scan_number = str(int(re.search('(?<=2mz_1\\.)\\d+(?=\\.)', scan_title)[0]))\n",
    "            # is there a faster way then now iterating through fixed1_scans, maybe appending the scan numbers\n",
    "            # to a list and then iterating through fixed1_scans seeing if fixed1_scans[i] is in list then adding it at that index\n",
    "            # location or something\n",
    "    elif file_number == '2':\n",
    "        if not mgftest2.loc[mgftest2['Spectrum'] == scan.title, 'Peptide'].empty :\n",
    "            peptide = mgftest2.loc[mgftest2['Spectrum'] == scan.title, 'Peptide'].iloc[0]\n",
    "            scan_title = new_theoretical2.loc[new_theoretical2['Peptide'] == peptide, 'Spectrum'].iloc[0]\n",
    "            scan_number = str(int(re.search('(?<=2mz_1\\.)\\d+(?=\\.)', scan_title)[0]))\n",
    "\n",
    "    else :\n",
    "        print('Incorrect file number')\n",
    "    # find row where scan.title = tsv12['spectrum']\n",
    "    # get the corresponding peptide sequence\n",
    "    # find the row in psm_1/2_new_theoretical.tsv where 'peptide' = peptide sequence\n",
    "    # get the scan number from the scan title in that row\n",
    "    # grab that scan from \"FIXED.mgf\" where scan number = scan number"
   ]
  },
  {
   "cell_type": "code",
   "execution_count": 15,
   "metadata": {},
   "outputs": [],
   "source": [
    "tsv1 = pd.read_csv('Original Spectra Files\\Output Files\\psm_1_mgftest.tsv', sep='\\t')\n",
    "tsv2 = pd.read_csv('Original Spectra Files\\Output Files\\psm_2_mgftest.tsv', sep='\\t')\n",
    "new_theoretical1 = pd.read_csv('Original Spectra Files\\Output Files\\psm_1_new_theoretical.tsv', sep='\\t')\n",
    "new_theoretical2 = pd.read_csv('Original Spectra Files\\Output Files\\psm_2_new_theoretical.tsv', sep='\\t')"
   ]
  },
  {
   "cell_type": "code",
   "execution_count": 31,
   "metadata": {},
   "outputs": [
    {
     "data": {
      "text/plain": [
       "'1270'"
      ]
     },
     "execution_count": 31,
     "metadata": {},
     "output_type": "execute_result"
    }
   ],
   "source": [
    "str(int(re.search('(?<=2mz_1\\.)\\d+(?=\\.)', new_theoretical1['Spectrum'][0])[0]))"
   ]
  },
  {
   "cell_type": "code",
   "execution_count": 19,
   "metadata": {},
   "outputs": [],
   "source": [
    "fixed1_scans = parse_mgf('Original Spectra Files\\Input Files\\FIXED_Ex_AuLC1_15m_2D19_3_20um30cm_SPE50_15118120_OTOT_5430_02ng_2mz_1.mgf')"
   ]
  },
  {
   "cell_type": "code",
   "execution_count": 22,
   "metadata": {},
   "outputs": [
    {
     "name": "stdout",
     "output_type": "stream",
     "text": [
      "397\n"
     ]
    }
   ],
   "source": [
    "for i, scan in enumerate(fixed1_scans) :\n",
    "    if scan.scan_num == '1270' :\n",
    "        print(i)"
   ]
  },
  {
   "cell_type": "code",
   "execution_count": 24,
   "metadata": {},
   "outputs": [
    {
     "data": {
      "text/plain": [
       "'Ex_AuLC1_15m_2D19_3_20um30cm_SPE50_15118120_OTOT_5430_02ng_2mz_1.1270.1270.3'"
      ]
     },
     "execution_count": 24,
     "metadata": {},
     "output_type": "execute_result"
    }
   ],
   "source": [
    "fixed1_scans[397].title"
   ]
  },
  {
   "cell_type": "code",
   "execution_count": null,
   "metadata": {},
   "outputs": [],
   "source": []
  }
 ],
 "metadata": {
  "kernelspec": {
   "display_name": "Python 3",
   "language": "python",
   "name": "python3"
  },
  "language_info": {
   "codemirror_mode": {
    "name": "ipython",
    "version": 3
   },
   "file_extension": ".py",
   "mimetype": "text/x-python",
   "name": "python",
   "nbconvert_exporter": "python",
   "pygments_lexer": "ipython3",
   "version": "3.11.4"
  },
  "orig_nbformat": 4
 },
 "nbformat": 4,
 "nbformat_minor": 2
}
